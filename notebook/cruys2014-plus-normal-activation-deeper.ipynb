{
 "cells": [
  {
   "cell_type": "code",
   "execution_count": 1,
   "metadata": {},
   "outputs": [],
   "source": [
    "import os\n",
    "if os.getcwd().endswith('/notebook'):\n",
    "    os.chdir('..')"
   ]
  },
  {
   "cell_type": "code",
   "execution_count": 2,
   "metadata": {},
   "outputs": [
    {
     "name": "stderr",
     "output_type": "stream",
     "text": [
      "/usr/local/Cellar/python3/3.6.2/Frameworks/Python.framework/Versions/3.6/lib/python3.6/site-packages/h5py/__init__.py:36: FutureWarning: Conversion of the second argument of issubdtype from `float` to `np.floating` is deprecated. In future, it will be treated as `np.float64 == np.dtype(float).type`.\n",
      "  from ._conv import register_converters as _register_converters\n"
     ]
    }
   ],
   "source": [
    "import tensorflow as tf\n",
    "import numpy as np"
   ]
  },
  {
   "cell_type": "code",
   "execution_count": 3,
   "metadata": {},
   "outputs": [],
   "source": [
    "inputs = [tf.keras.layers.Input(shape=(3,)) for i in range(4)]"
   ]
  },
  {
   "cell_type": "code",
   "execution_count": 4,
   "metadata": {},
   "outputs": [],
   "source": [
    "# \"We set N, the size of our embedding matrices, to 50\"\n",
    "emb = tf.keras.layers.Embedding(5000, 50)\n",
    "flatten = tf.keras.layers.Flatten()\n",
    "# \"... and H, the number of units in the hidden layer, to 100.\"\n",
    "# \"[...] f(·) represents the element-wise activation function tanh [...]\"\n",
    "hidden1 = tf.keras.layers.Dense(50, activation=tf.nn.tanh)\n",
    "hidden2 = tf.keras.layers.Dense(50, activation=lambda x: tf.exp(-x*x))\n",
    "hidden3 = tf.keras.layers.Dense(50, activation=tf.nn.sigmoid)\n",
    "score = tf.keras.layers.Dense(1)\n",
    "\n",
    "def score_tuple_input(input_):\n",
    "    pre_hidden = flatten(emb(input_))\n",
    "    hidden_activation1 = hidden1(pre_hidden)\n",
    "    hidden_activation2 = hidden2(pre_hidden)\n",
    "    hlayer1 = tf.keras.layers.Concatenate()([hidden_activation1, hidden_activation2])\n",
    "    return score(hidden3(hlayer1))"
   ]
  },
  {
   "cell_type": "code",
   "execution_count": 5,
   "metadata": {},
   "outputs": [],
   "source": [
    "scores = [score_tuple_input(inp) for inp in inputs]"
   ]
  },
  {
   "cell_type": "code",
   "execution_count": 6,
   "metadata": {},
   "outputs": [],
   "source": [
    "concat_scores = tf.keras.layers.Concatenate()(scores)"
   ]
  },
  {
   "cell_type": "code",
   "execution_count": 7,
   "metadata": {},
   "outputs": [],
   "source": [
    "single_model = tf.keras.Model(inputs=inputs[0], outputs=scores[0])\n",
    "contrastive_model = tf.keras.Model(inputs=inputs, outputs=concat_scores)"
   ]
  },
  {
   "cell_type": "code",
   "execution_count": 8,
   "metadata": {},
   "outputs": [],
   "source": [
    "def contrastive_loss(gold_dummy, predicted):\n",
    "    pos_scores, neg_scores1, neg_scores2, neg_scores3 = \\\n",
    "            predicted[:,0], predicted[:,1], predicted[:,2], predicted[:,3]\n",
    "    max_margin = lambda p, n: tf.reduce_mean(tf.maximum(0.0, 1 - p + n))\n",
    "    return (max_margin(pos_scores, neg_scores1) +\n",
    "            max_margin(pos_scores, neg_scores2) +\n",
    "            max_margin(pos_scores, neg_scores3))"
   ]
  },
  {
   "cell_type": "code",
   "execution_count": 9,
   "metadata": {},
   "outputs": [],
   "source": [
    "contrastive_model.compile(loss=contrastive_loss, optimizer='adagrad')"
   ]
  },
  {
   "cell_type": "code",
   "execution_count": 10,
   "metadata": {},
   "outputs": [
    {
     "name": "stdout",
     "output_type": "stream",
     "text": [
      "__________________________________________________________________________________________________\n",
      "Layer (type)                    Output Shape         Param #     Connected to                     \n",
      "==================================================================================================\n",
      "input_1 (InputLayer)            (None, 3)            0                                            \n",
      "__________________________________________________________________________________________________\n",
      "embedding_1 (Embedding)         (None, 3, 50)        250000      input_1[0][0]                    \n",
      "__________________________________________________________________________________________________\n",
      "flatten_1 (Flatten)             (None, 150)          0           embedding_1[0][0]                \n",
      "__________________________________________________________________________________________________\n",
      "dense_1 (Dense)                 (None, 50)           7550        flatten_1[0][0]                  \n",
      "__________________________________________________________________________________________________\n",
      "dense_2 (Dense)                 (None, 50)           7550        flatten_1[0][0]                  \n",
      "__________________________________________________________________________________________________\n",
      "concatenate_1 (Concatenate)     (None, 100)          0           dense_1[0][0]                    \n",
      "                                                                 dense_2[0][0]                    \n",
      "__________________________________________________________________________________________________\n",
      "dense_3 (Dense)                 (None, 50)           5050        concatenate_1[0][0]              \n",
      "__________________________________________________________________________________________________\n",
      "dense_4 (Dense)                 (None, 1)            51          dense_3[0][0]                    \n",
      "==================================================================================================\n",
      "Total params: 270,201\n",
      "Trainable params: 270,201\n",
      "Non-trainable params: 0\n",
      "__________________________________________________________________________________________________\n"
     ]
    }
   ],
   "source": [
    "single_model.summary()"
   ]
  },
  {
   "cell_type": "code",
   "execution_count": 11,
   "metadata": {},
   "outputs": [
    {
     "name": "stdout",
     "output_type": "stream",
     "text": [
      "__________________________________________________________________________________________________\n",
      "Layer (type)                    Output Shape         Param #     Connected to                     \n",
      "==================================================================================================\n",
      "input_1 (InputLayer)            (None, 3)            0                                            \n",
      "__________________________________________________________________________________________________\n",
      "input_2 (InputLayer)            (None, 3)            0                                            \n",
      "__________________________________________________________________________________________________\n",
      "input_3 (InputLayer)            (None, 3)            0                                            \n",
      "__________________________________________________________________________________________________\n",
      "input_4 (InputLayer)            (None, 3)            0                                            \n",
      "__________________________________________________________________________________________________\n",
      "embedding_1 (Embedding)         (None, 3, 50)        250000      input_1[0][0]                    \n",
      "                                                                 input_2[0][0]                    \n",
      "                                                                 input_3[0][0]                    \n",
      "                                                                 input_4[0][0]                    \n",
      "__________________________________________________________________________________________________\n",
      "flatten_1 (Flatten)             (None, 150)          0           embedding_1[0][0]                \n",
      "                                                                 embedding_1[1][0]                \n",
      "                                                                 embedding_1[2][0]                \n",
      "                                                                 embedding_1[3][0]                \n",
      "__________________________________________________________________________________________________\n",
      "dense_1 (Dense)                 (None, 50)           7550        flatten_1[0][0]                  \n",
      "                                                                 flatten_1[1][0]                  \n",
      "                                                                 flatten_1[2][0]                  \n",
      "                                                                 flatten_1[3][0]                  \n",
      "__________________________________________________________________________________________________\n",
      "dense_2 (Dense)                 (None, 50)           7550        flatten_1[0][0]                  \n",
      "                                                                 flatten_1[1][0]                  \n",
      "                                                                 flatten_1[2][0]                  \n",
      "                                                                 flatten_1[3][0]                  \n",
      "__________________________________________________________________________________________________\n",
      "concatenate_1 (Concatenate)     (None, 100)          0           dense_1[0][0]                    \n",
      "                                                                 dense_2[0][0]                    \n",
      "__________________________________________________________________________________________________\n",
      "concatenate_2 (Concatenate)     (None, 100)          0           dense_1[1][0]                    \n",
      "                                                                 dense_2[1][0]                    \n",
      "__________________________________________________________________________________________________\n",
      "concatenate_3 (Concatenate)     (None, 100)          0           dense_1[2][0]                    \n",
      "                                                                 dense_2[2][0]                    \n",
      "__________________________________________________________________________________________________\n",
      "concatenate_4 (Concatenate)     (None, 100)          0           dense_1[3][0]                    \n",
      "                                                                 dense_2[3][0]                    \n",
      "__________________________________________________________________________________________________\n",
      "dense_3 (Dense)                 (None, 50)           5050        concatenate_1[0][0]              \n",
      "                                                                 concatenate_2[0][0]              \n",
      "                                                                 concatenate_3[0][0]              \n",
      "                                                                 concatenate_4[0][0]              \n",
      "__________________________________________________________________________________________________\n",
      "dense_4 (Dense)                 (None, 1)            51          dense_3[0][0]                    \n",
      "                                                                 dense_3[1][0]                    \n",
      "                                                                 dense_3[2][0]                    \n",
      "                                                                 dense_3[3][0]                    \n",
      "__________________________________________________________________________________________________\n",
      "concatenate_5 (Concatenate)     (None, 4)            0           dense_4[0][0]                    \n",
      "                                                                 dense_4[1][0]                    \n",
      "                                                                 dense_4[2][0]                    \n",
      "                                                                 dense_4[3][0]                    \n",
      "==================================================================================================\n",
      "Total params: 270,201\n",
      "Trainable params: 270,201\n",
      "Non-trainable params: 0\n",
      "__________________________________________________________________________________________________\n"
     ]
    }
   ],
   "source": [
    "contrastive_model.summary()"
   ]
  },
  {
   "cell_type": "code",
   "execution_count": 12,
   "metadata": {},
   "outputs": [],
   "source": [
    "test_ds = np.load('output/ontonote-svo-test.npy')\n",
    "pos_examples = test_ds[:,[0,1,2]]\n",
    "neg_examples = test_ds[:,[0,3,4]]\n",
    "\n",
    "def calculate_test_score():\n",
    "    pos_scores = single_model.predict(pos_examples)\n",
    "    neg_scores = single_model.predict(neg_examples)\n",
    "    return np.average(pos_scores > neg_scores)"
   ]
  },
  {
   "cell_type": "code",
   "execution_count": 13,
   "metadata": {},
   "outputs": [],
   "source": [
    "rng = np.random.RandomState(3892)"
   ]
  },
  {
   "cell_type": "code",
   "execution_count": 14,
   "metadata": {},
   "outputs": [],
   "source": [
    "train_ds = np.load('output/ontonote-svo-train.npy')\n",
    "rng = np.random.RandomState(3892)\n",
    "verb, pos_sbj, pos_dobj = train_ds[:,[0]], train_ds[:,[1]], train_ds[:,[2]]\n",
    "neg_sbj = pos_sbj.copy()\n",
    "neg_dobj = pos_dobj.copy()\n",
    "y = np.ones((len(train_ds), 1)) # dummy scores\n",
    "\n",
    "def train_epoch():\n",
    "    rng.shuffle(neg_sbj)\n",
    "    rng.shuffle(neg_sbj)\n",
    "    input_pos = train_ds\n",
    "    input_neg1 = np.hstack([verb, neg_sbj, pos_dobj])\n",
    "    input_neg2 = np.hstack([verb, pos_sbj, neg_dobj])\n",
    "    input_neg3 = np.hstack([verb, neg_sbj, neg_dobj])\n",
    "    log = contrastive_model.fit([input_pos, input_neg1, input_neg2, input_neg3], y, \n",
    "                                batch_size=1000, epochs=1, verbose=0)\n",
    "    return log.history['loss'][0], calculate_test_score()"
   ]
  },
  {
   "cell_type": "code",
   "execution_count": 15,
   "metadata": {},
   "outputs": [
    {
     "name": "stderr",
     "output_type": "stream",
     "text": [
      "100%|██████████| 1000/1000 [18:32<00:00,  1.11s/it]\n"
     ]
    }
   ],
   "source": [
    "from tqdm import tqdm\n",
    "log = [train_epoch() for _ in tqdm(range(1000))]"
   ]
  },
  {
   "cell_type": "code",
   "execution_count": 16,
   "metadata": {},
   "outputs": [],
   "source": [
    "import pandas as pd\n",
    "log_df = pd.DataFrame(log, columns=['train_loss', 'test_score'])"
   ]
  },
  {
   "cell_type": "code",
   "execution_count": 17,
   "metadata": {},
   "outputs": [
    {
     "data": {
      "image/png": "[encoded data removed]",
      "text/plain": [
       "<Figure size 432x288 with 1 Axes>"
      ]
     },
     "metadata": {},
     "output_type": "display_data"
    }
   ],
   "source": [
    "%matplotlib inline\n",
    "import matplotlib.pyplot as plt\n",
    "_ = plt.plot(log_df.train_loss)"
   ]
  },
  {
   "cell_type": "code",
   "execution_count": 18,
   "metadata": {},
   "outputs": [
    {
     "data": {
      "image/png": "[encoded data removed]",
      "text/plain": [
       "<Figure size 432x288 with 1 Axes>"
      ]
     },
     "metadata": {},
     "output_type": "display_data"
    }
   ],
   "source": [
    "_ = plt.plot(log_df.test_score)"
   ]
  },
  {
   "cell_type": "code",
   "execution_count": 19,
   "metadata": {},
   "outputs": [],
   "source": [
    "tf.keras.models.save_model(single_model, 'output/ontonotes-cruys2014-plus-normal-activation-deeper.hd5')"
   ]
  },
  {
   "cell_type": "code",
   "execution_count": null,
   "metadata": {},
   "outputs": [],
   "source": []
  }
 ],
 "metadata": {
  "kernelspec": {
   "display_name": "Python 3",
   "language": "python",
   "name": "python3"
  },
  "language_info": {
   "codemirror_mode": {
    "name": "ipython",
    "version": 3
   },
   "file_extension": ".py",
   "mimetype": "text/x-python",
   "name": "python",
   "nbconvert_exporter": "python",
   "pygments_lexer": "ipython3",
   "version": "3.6.2"
  }
 },
 "nbformat": 4,
 "nbformat_minor": 2
}
