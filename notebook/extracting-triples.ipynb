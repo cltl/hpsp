{
 "cells": [
  {
   "cell_type": "code",
   "execution_count": 1,
   "metadata": {},
   "outputs": [],
   "source": [
    "import os\n",
    "if os.getcwd().endswith('/notebook'):\n",
    "    os.chdir('..')"
   ]
  },
  {
   "cell_type": "code",
   "execution_count": 2,
   "metadata": {},
   "outputs": [],
   "source": [
    "import ontonotes\n",
    "from ontonotes import ontonotes_en, dev_docs, OntonotesDocument"
   ]
  },
  {
   "cell_type": "code",
   "execution_count": 3,
   "metadata": {},
   "outputs": [],
   "source": [
    "import sys\n",
    "def print_conllx(deps, file=sys.stdout):\n",
    "    ''' \n",
    "    Convert from my custom representation back to CoNLL-X format.\n",
    "    This is useful for visualization using Arne Köhn's jupyter-annodoc.\n",
    "    '''\n",
    "    table = [(i+1, d['token'], '_', d['pos'], d['pos'], '_', d['head']+1, d['label'], '_', '_')\n",
    "             for i, d in enumerate(deps)]\n",
    "    print('\\n'.join('\\t'.join(str(val) for val in row) \n",
    "                    for row in table))\n",
    "    print()"
   ]
  },
  {
   "cell_type": "code",
   "execution_count": 32,
   "metadata": {},
   "outputs": [
    {
     "name": "stderr",
     "output_type": "stream",
     "text": [
      "100%|██████████| 13108/13108 [00:19<00:00, 684.84it/s]\n"
     ]
    }
   ],
   "source": [
    "import sys\n",
    "from tqdm import tqdm\n",
    "from nltk.stem import WordNetLemmatizer\n",
    "\n",
    "lemmatizer = WordNetLemmatizer()\n",
    "triples = []\n",
    "for doc_path in tqdm(ontonotes.list_docs(ontonotes_en)):\n",
    "    if os.path.relpath(doc_path, ontonotes_en) not in dev_docs:\n",
    "        doc = OntonotesDocument(doc_path)\n",
    "        for sent_deps in doc.deps():\n",
    "            dobjs = [d for d in sent_deps \n",
    "                     if d['label'] == 'dobj' and \n",
    "                     d['pos'].startswith('N') and \n",
    "                     d['token'] != '%']\n",
    "            for dobj in dobjs:\n",
    "                verb_index = dobj['head']\n",
    "                verb = sent_deps[verb_index]\n",
    "                sbjs = [d for d in sent_deps \n",
    "                        if d['head'] == verb_index and\n",
    "                        d['pos'].startswith('N') and\n",
    "                        d['token'] != '%' and\n",
    "                        d['label'] in ('nsubj', 'nsubjpass', 'xsubj', 'subj')]\n",
    "                for sbj in sbjs:\n",
    "                    sbj_lemma = lemmatizer.lemmatize(sbj['token'], pos='n')\n",
    "                    verb_lemma = lemmatizer.lemmatize(verb['token'], pos='v')\n",
    "                    dobj_lemma = lemmatizer.lemmatize(dobj['token'], pos='n')\n",
    "                    triples.append((sbj_lemma, verb_lemma, dobj_lemma))"
   ]
  },
  {
   "cell_type": "code",
   "execution_count": 43,
   "metadata": {},
   "outputs": [
    {
     "data": {
      "text/html": [
       "<div>\n",
       "<style scoped>\n",
       "    .dataframe tbody tr th:only-of-type {\n",
       "        vertical-align: middle;\n",
       "    }\n",
       "\n",
       "    .dataframe tbody tr th {\n",
       "        vertical-align: top;\n",
       "    }\n",
       "\n",
       "    .dataframe thead th {\n",
       "        text-align: right;\n",
       "    }\n",
       "</style>\n",
       "<table border=\"1\" class=\"dataframe\">\n",
       "  <thead>\n",
       "    <tr style=\"text-align: right;\">\n",
       "      <th></th>\n",
       "      <th>sbj</th>\n",
       "      <th>verb</th>\n",
       "      <th>dobj</th>\n",
       "    </tr>\n",
       "  </thead>\n",
       "  <tbody>\n",
       "    <tr>\n",
       "      <th>20836</th>\n",
       "      <td>country</td>\n",
       "      <td>express</td>\n",
       "      <td>admission</td>\n",
       "    </tr>\n",
       "    <tr>\n",
       "      <th>28442</th>\n",
       "      <td>hand</td>\n",
       "      <td>sweep</td>\n",
       "      <td>top</td>\n",
       "    </tr>\n",
       "    <tr>\n",
       "      <th>3515</th>\n",
       "      <td>journalist</td>\n",
       "      <td>take</td>\n",
       "      <td>newsroom</td>\n",
       "    </tr>\n",
       "    <tr>\n",
       "      <th>17098</th>\n",
       "      <td>Sotheby</td>\n",
       "      <td>make</td>\n",
       "      <td>guarantee</td>\n",
       "    </tr>\n",
       "    <tr>\n",
       "      <th>11232</th>\n",
       "      <td>planner</td>\n",
       "      <td>construct</td>\n",
       "      <td>program</td>\n",
       "    </tr>\n",
       "  </tbody>\n",
       "</table>\n",
       "</div>"
      ],
      "text/plain": [
       "              sbj       verb       dobj\n",
       "20836     country    express  admission\n",
       "28442        hand      sweep        top\n",
       "3515   journalist       take   newsroom\n",
       "17098     Sotheby       make  guarantee\n",
       "11232     planner  construct    program"
      ]
     },
     "execution_count": 43,
     "metadata": {},
     "output_type": "execute_result"
    }
   ],
   "source": [
    "import pandas as pd\n",
    "df = pd.DataFrame(triples, columns=['sbj', 'verb', 'dobj'])\n",
    "df.sample(5)"
   ]
  },
  {
   "cell_type": "code",
   "execution_count": 21,
   "metadata": {},
   "outputs": [
    {
     "data": {
      "text/html": [
       "<div>\n",
       "<style scoped>\n",
       "    .dataframe tbody tr th:only-of-type {\n",
       "        vertical-align: middle;\n",
       "    }\n",
       "\n",
       "    .dataframe tbody tr th {\n",
       "        vertical-align: top;\n",
       "    }\n",
       "\n",
       "    .dataframe thead th {\n",
       "        text-align: right;\n",
       "    }\n",
       "</style>\n",
       "<table border=\"1\" class=\"dataframe\">\n",
       "  <thead>\n",
       "    <tr style=\"text-align: right;\">\n",
       "      <th></th>\n",
       "      <th>sbj</th>\n",
       "      <th>verb</th>\n",
       "      <th>dobj</th>\n",
       "    </tr>\n",
       "  </thead>\n",
       "  <tbody>\n",
       "    <tr>\n",
       "      <th>count</th>\n",
       "      <td>28596</td>\n",
       "      <td>28596</td>\n",
       "      <td>28596</td>\n",
       "    </tr>\n",
       "    <tr>\n",
       "      <th>unique</th>\n",
       "      <td>6507</td>\n",
       "      <td>1973</td>\n",
       "      <td>5207</td>\n",
       "    </tr>\n",
       "    <tr>\n",
       "      <th>top</th>\n",
       "      <td>people</td>\n",
       "      <td>have</td>\n",
       "      <td>people</td>\n",
       "    </tr>\n",
       "    <tr>\n",
       "      <th>freq</th>\n",
       "      <td>649</td>\n",
       "      <td>2602</td>\n",
       "      <td>258</td>\n",
       "    </tr>\n",
       "  </tbody>\n",
       "</table>\n",
       "</div>"
      ],
      "text/plain": [
       "           sbj   verb    dobj\n",
       "count    28596  28596   28596\n",
       "unique    6507   1973    5207\n",
       "top     people   have  people\n",
       "freq       649   2602     258"
      ]
     },
     "execution_count": 21,
     "metadata": {},
     "output_type": "execute_result"
    }
   ],
   "source": [
    "df.describe()"
   ]
  },
  {
   "cell_type": "code",
   "execution_count": 22,
   "metadata": {},
   "outputs": [
    {
     "data": {
      "text/plain": [
       "<matplotlib.axes._subplots.AxesSubplot at 0x111783fd0>"
      ]
     },
     "execution_count": 22,
     "metadata": {},
     "output_type": "execute_result"
    },
    {
     "data": {
      "image/png": "[encoded data removed]",
      "text/plain": [
       "<matplotlib.figure.Figure at 0x111773438>"
      ]
     },
     "metadata": {},
     "output_type": "display_data"
    }
   ],
   "source": [
    "%matplotlib inline\n",
    "df['sbj'].value_counts().head(30).plot('bar')"
   ]
  },
  {
   "cell_type": "code",
   "execution_count": 23,
   "metadata": {},
   "outputs": [
    {
     "data": {
      "text/plain": [
       "<matplotlib.axes._subplots.AxesSubplot at 0x1165f7278>"
      ]
     },
     "execution_count": 23,
     "metadata": {},
     "output_type": "execute_result"
    },
    {
     "data": {
      "image/png": "[encoded data removed]",
      "text/plain": [
       "<matplotlib.figure.Figure at 0x1166413c8>"
      ]
     },
     "metadata": {},
     "output_type": "display_data"
    }
   ],
   "source": [
    "%matplotlib inline\n",
    "df['verb'].value_counts().head(30).plot('bar')"
   ]
  },
  {
   "cell_type": "code",
   "execution_count": 24,
   "metadata": {},
   "outputs": [
    {
     "data": {
      "text/plain": [
       "<matplotlib.axes._subplots.AxesSubplot at 0x1165dd6a0>"
      ]
     },
     "execution_count": 24,
     "metadata": {},
     "output_type": "execute_result"
    },
    {
     "data": {
      "image/png": "[encoded data removed]",
      "text/plain": [
       "<matplotlib.figure.Figure at 0x1078b67f0>"
      ]
     },
     "metadata": {},
     "output_type": "display_data"
    }
   ],
   "source": [
    "%matplotlib inline\n",
    "df['dobj'].value_counts().head(30).plot('bar')"
   ]
  },
  {
   "cell_type": "code",
   "execution_count": 45,
   "metadata": {},
   "outputs": [],
   "source": [
    "from version import version\n",
    "df.to_csv('output/ontonote-svo.%s.txt' %version, \n",
    "          sep='\\t', index=False, header=False)"
   ]
  },
  {
   "cell_type": "code",
   "execution_count": null,
   "metadata": {},
   "outputs": [],
   "source": []
  }
 ],
 "metadata": {
  "kernelspec": {
   "display_name": "Python 3",
   "language": "python",
   "name": "python3"
  },
  "language_info": {
   "codemirror_mode": {
    "name": "ipython",
    "version": 3
   },
   "file_extension": ".py",
   "mimetype": "text/x-python",
   "name": "python",
   "nbconvert_exporter": "python",
   "pygments_lexer": "ipython3",
   "version": "3.6.2"
  }
 },
 "nbformat": 4,
 "nbformat_minor": 2
}
