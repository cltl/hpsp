{
 "cells": [
  {
   "cell_type": "code",
   "execution_count": 2,
   "metadata": {},
   "outputs": [],
   "source": [
    "import os\n",
    "if os.getcwd().endswith('/notebook'):\n",
    "    os.chdir('..')"
   ]
  },
  {
   "cell_type": "code",
   "execution_count": 3,
   "metadata": {},
   "outputs": [],
   "source": [
    "%matplotlib inline\n",
    "import matplotlib.pyplot as plt\n",
    "import seaborn as sns\n",
    "import random\n",
    "from collections import OrderedDict\n",
    "import pandas as pd\n",
    "import joblib \n",
    "from evaluation import create_test_set_from_positive_examples_same_freq, \\\n",
    "        create_test_set_from_positive_examples_unigram_freq"
   ]
  },
  {
   "cell_type": "code",
   "execution_count": 4,
   "metadata": {},
   "outputs": [
    {
     "data": {
      "text/html": [
       "<div>\n",
       "<style scoped>\n",
       "    .dataframe tbody tr th:only-of-type {\n",
       "        vertical-align: middle;\n",
       "    }\n",
       "\n",
       "    .dataframe tbody tr th {\n",
       "        vertical-align: top;\n",
       "    }\n",
       "\n",
       "    .dataframe thead th {\n",
       "        text-align: right;\n",
       "    }\n",
       "</style>\n",
       "<table border=\"1\" class=\"dataframe\">\n",
       "  <thead>\n",
       "    <tr style=\"text-align: right;\">\n",
       "      <th></th>\n",
       "      <th>sbj</th>\n",
       "      <th>verb</th>\n",
       "      <th>dobj</th>\n",
       "    </tr>\n",
       "  </thead>\n",
       "  <tbody>\n",
       "    <tr>\n",
       "      <th>20161</th>\n",
       "      <td>humiliation</td>\n",
       "      <td>stir</td>\n",
       "      <td>sense</td>\n",
       "    </tr>\n",
       "    <tr>\n",
       "      <th>1202</th>\n",
       "      <td>earthquake</td>\n",
       "      <td>damage</td>\n",
       "      <td>home</td>\n",
       "    </tr>\n",
       "    <tr>\n",
       "      <th>12181</th>\n",
       "      <td>side</td>\n",
       "      <td>undertake</td>\n",
       "      <td>effort</td>\n",
       "    </tr>\n",
       "    <tr>\n",
       "      <th>2595</th>\n",
       "      <td>resident</td>\n",
       "      <td>submit</td>\n",
       "      <td>application</td>\n",
       "    </tr>\n",
       "    <tr>\n",
       "      <th>18601</th>\n",
       "      <td>country</td>\n",
       "      <td>suffer</td>\n",
       "      <td>lot</td>\n",
       "    </tr>\n",
       "  </tbody>\n",
       "</table>\n",
       "</div>"
      ],
      "text/plain": [
       "               sbj       verb         dobj\n",
       "20161  humiliation       stir        sense\n",
       "1202    earthquake     damage         home\n",
       "12181         side  undertake       effort\n",
       "2595      resident     submit  application\n",
       "18601      country     suffer          lot"
      ]
     },
     "execution_count": 4,
     "metadata": {},
     "output_type": "execute_result"
    }
   ],
   "source": [
    "df = pd.read_csv('output/ontonote-svo.txt', sep='\\t', names=['sbj', 'verb', 'dobj'])\n",
    "df.sample(5)"
   ]
  },
  {
   "cell_type": "code",
   "execution_count": 5,
   "metadata": {},
   "outputs": [
    {
     "name": "stdout",
     "output_type": "stream",
     "text": [
      "20,885\n"
     ]
    }
   ],
   "source": [
    "print('{0:,d}'.format(len(df)))"
   ]
  },
  {
   "cell_type": "markdown",
   "metadata": {},
   "source": [
    "Test set will also contain negative examples chosen in two ways:\n",
    "\n",
    "- according to the unigram frequency in the dataset\n",
    "- from the same frequency band as the positive subject/object being replaced"
   ]
  },
  {
   "cell_type": "markdown",
   "metadata": {},
   "source": [
    "Following Cruys (2014), we will perform instance-based training and type-based testing. The duplicates in the training set gives the model a sense of typicality."
   ]
  },
  {
   "cell_type": "code",
   "execution_count": 6,
   "metadata": {},
   "outputs": [],
   "source": [
    "test_ds_same_freq = create_test_set_from_positive_examples_same_freq(df, random_seed=32532)"
   ]
  },
  {
   "cell_type": "code",
   "execution_count": 7,
   "metadata": {},
   "outputs": [],
   "source": [
    "test_ds_same_freq.to_csv('output/ontonote-svo-same-freq.txt', sep='\\t', index=False, header=False)"
   ]
  },
  {
   "cell_type": "code",
   "execution_count": 8,
   "metadata": {},
   "outputs": [],
   "source": [
    "test_ds_unigram = create_test_set_from_positive_examples_unigram_freq(df, random_seed=32532)"
   ]
  },
  {
   "cell_type": "code",
   "execution_count": 9,
   "metadata": {},
   "outputs": [],
   "source": [
    "test_ds_unigram.to_csv('output/ontonote-svo-unigram-freq.txt', sep='\\t', index=False, header=False)"
   ]
  },
  {
   "cell_type": "markdown",
   "metadata": {},
   "source": [
    "# Examine the datasets"
   ]
  },
  {
   "cell_type": "code",
   "execution_count": 10,
   "metadata": {},
   "outputs": [
    {
     "data": {
      "text/html": [
       "<div>\n",
       "<style scoped>\n",
       "    .dataframe tbody tr th:only-of-type {\n",
       "        vertical-align: middle;\n",
       "    }\n",
       "\n",
       "    .dataframe tbody tr th {\n",
       "        vertical-align: top;\n",
       "    }\n",
       "\n",
       "    .dataframe thead th {\n",
       "        text-align: right;\n",
       "    }\n",
       "</style>\n",
       "<table border=\"1\" class=\"dataframe\">\n",
       "  <thead>\n",
       "    <tr style=\"text-align: right;\">\n",
       "      <th></th>\n",
       "      <th>verb</th>\n",
       "      <th>pos_sbj</th>\n",
       "      <th>pos_dobj</th>\n",
       "      <th>neg_sbj</th>\n",
       "      <th>neg_dobj</th>\n",
       "    </tr>\n",
       "  </thead>\n",
       "  <tbody>\n",
       "    <tr>\n",
       "      <th>0</th>\n",
       "      <td>toss</td>\n",
       "      <td>judge</td>\n",
       "      <td>verdict</td>\n",
       "      <td>station</td>\n",
       "      <td>director</td>\n",
       "    </tr>\n",
       "    <tr>\n",
       "      <th>1</th>\n",
       "      <td>give</td>\n",
       "      <td>fact</td>\n",
       "      <td>measure</td>\n",
       "      <td>suspect</td>\n",
       "      <td>water</td>\n",
       "    </tr>\n",
       "    <tr>\n",
       "      <th>2</th>\n",
       "      <td>reach</td>\n",
       "      <td>bicycle</td>\n",
       "      <td>barrier</td>\n",
       "      <td>impression</td>\n",
       "      <td>platform</td>\n",
       "    </tr>\n",
       "    <tr>\n",
       "      <th>3</th>\n",
       "      <td>pay</td>\n",
       "      <td>defendant</td>\n",
       "      <td>damage</td>\n",
       "      <td>yield</td>\n",
       "      <td>trade</td>\n",
       "    </tr>\n",
       "    <tr>\n",
       "      <th>4</th>\n",
       "      <td>have</td>\n",
       "      <td>country</td>\n",
       "      <td>troop</td>\n",
       "      <td>article</td>\n",
       "      <td>everyone</td>\n",
       "    </tr>\n",
       "  </tbody>\n",
       "</table>\n",
       "</div>"
      ],
      "text/plain": [
       "    verb    pos_sbj pos_dobj     neg_sbj  neg_dobj\n",
       "0   toss      judge  verdict     station  director\n",
       "1   give       fact  measure     suspect     water\n",
       "2  reach    bicycle  barrier  impression  platform\n",
       "3    pay  defendant   damage       yield     trade\n",
       "4   have    country    troop     article  everyone"
      ]
     },
     "execution_count": 10,
     "metadata": {},
     "output_type": "execute_result"
    }
   ],
   "source": [
    "test_ds_same_freq.head()"
   ]
  },
  {
   "cell_type": "code",
   "execution_count": 11,
   "metadata": {},
   "outputs": [],
   "source": [
    "def compute_examine_dataset(df):\n",
    "    test_pos_examine = (df[['pos_sbj', 'verb', 'pos_dobj']].copy()\n",
    "                        .rename(columns={'pos_sbj': 'sbj', 'pos_dobj': 'dobj'}))\n",
    "    test_pos_examine['type'] = 'test_pos'\n",
    "    test_neg_examine = (df[['neg_sbj', 'verb', 'neg_dobj']].copy()\n",
    "                        .rename(columns={'neg_sbj': 'sbj', 'neg_dobj': 'dobj'}))\n",
    "    test_neg_examine['type'] = 'test_neg'\n",
    "    return pd.concat([test_pos_examine, test_neg_examine])"
   ]
  },
  {
   "cell_type": "code",
   "execution_count": 24,
   "metadata": {},
   "outputs": [],
   "source": [
    "def plot_most_common_words(col_name, *args, **kwargs): \n",
    "    df = kwargs['data']\n",
    "    df[col_name].value_counts().head(30).plot('bar', fontsize='small')\n",
    "    \n",
    "def plot_histogram(col_name, *args, **kwargs): \n",
    "    df = kwargs['data']\n",
    "    plt.plot(df[col_name].value_counts().values)"
   ]
  },
  {
   "cell_type": "code",
   "execution_count": 13,
   "metadata": {},
   "outputs": [],
   "source": [
    "ds_examine = compute_examine_dataset(test_ds_same_freq)"
   ]
  },
  {
   "cell_type": "code",
   "execution_count": 30,
   "metadata": {},
   "outputs": [
    {
     "data": {
      "image/png": "[encoded data removed]",
      "text/plain": [
       "<Figure size 432x216 with 2 Axes>"
      ]
     },
     "metadata": {},
     "output_type": "display_data"
    }
   ],
   "source": [
    "g = sns.FacetGrid(ds_examine, col='type').map_dataframe(plot_histogram, 'sbj')"
   ]
  },
  {
   "cell_type": "code",
   "execution_count": 29,
   "metadata": {},
   "outputs": [
    {
     "data": {
      "image/png": "[encoded data removed]",
      "text/plain": [
       "<Figure size 432x216 with 2 Axes>"
      ]
     },
     "metadata": {},
     "output_type": "display_data"
    }
   ],
   "source": [
    "g = sns.FacetGrid(ds_examine, col='type').map_dataframe(plot_histogram, 'dobj')"
   ]
  },
  {
   "cell_type": "code",
   "execution_count": 31,
   "metadata": {},
   "outputs": [
    {
     "data": {
      "image/png": "[encoded data removed]",
      "text/plain": [
       "<Figure size 432x216 with 2 Axes>"
      ]
     },
     "metadata": {},
     "output_type": "display_data"
    }
   ],
   "source": [
    "g = sns.FacetGrid(ds_examine, col='type').map_dataframe(plot_most_common_words, 'dobj')"
   ]
  },
  {
   "cell_type": "code",
   "execution_count": 32,
   "metadata": {},
   "outputs": [
    {
     "data": {
      "image/png": "[encoded data removed]",
      "text/plain": [
       "<Figure size 432x216 with 2 Axes>"
      ]
     },
     "metadata": {},
     "output_type": "display_data"
    }
   ],
   "source": [
    "g = sns.FacetGrid(ds_examine, col='type').map_dataframe(plot_most_common_words, 'sbj')"
   ]
  },
  {
   "cell_type": "code",
   "execution_count": 17,
   "metadata": {
    "scrolled": true
   },
   "outputs": [
    {
     "data": {
      "text/html": [
       "<div>\n",
       "<style scoped>\n",
       "    .dataframe tbody tr th:only-of-type {\n",
       "        vertical-align: middle;\n",
       "    }\n",
       "\n",
       "    .dataframe tbody tr th {\n",
       "        vertical-align: top;\n",
       "    }\n",
       "\n",
       "    .dataframe thead th {\n",
       "        text-align: right;\n",
       "    }\n",
       "</style>\n",
       "<table border=\"1\" class=\"dataframe\">\n",
       "  <thead>\n",
       "    <tr style=\"text-align: right;\">\n",
       "      <th></th>\n",
       "      <th>verb</th>\n",
       "      <th>pos_sbj</th>\n",
       "      <th>pos_dobj</th>\n",
       "      <th>neg_sbj</th>\n",
       "      <th>neg_dobj</th>\n",
       "    </tr>\n",
       "  </thead>\n",
       "  <tbody>\n",
       "    <tr>\n",
       "      <th>4147</th>\n",
       "      <td>admit</td>\n",
       "      <td>none</td>\n",
       "      <td>allegation</td>\n",
       "      <td>panel</td>\n",
       "      <td>transition</td>\n",
       "    </tr>\n",
       "    <tr>\n",
       "      <th>8051</th>\n",
       "      <td>implement</td>\n",
       "      <td>government</td>\n",
       "      <td>reform</td>\n",
       "      <td>issue</td>\n",
       "      <td>stage</td>\n",
       "    </tr>\n",
       "    <tr>\n",
       "      <th>7320</th>\n",
       "      <td>spend</td>\n",
       "      <td>committee</td>\n",
       "      <td>time</td>\n",
       "      <td>office</td>\n",
       "      <td>president</td>\n",
       "    </tr>\n",
       "    <tr>\n",
       "      <th>7507</th>\n",
       "      <td>reach</td>\n",
       "      <td>purchase</td>\n",
       "      <td>recipient</td>\n",
       "      <td>plan</td>\n",
       "      <td>guidance</td>\n",
       "    </tr>\n",
       "    <tr>\n",
       "      <th>19411</th>\n",
       "      <td>receive</td>\n",
       "      <td>kind</td>\n",
       "      <td>comment</td>\n",
       "      <td>none</td>\n",
       "      <td>victory</td>\n",
       "    </tr>\n",
       "    <tr>\n",
       "      <th>9491</th>\n",
       "      <td>have</td>\n",
       "      <td>people</td>\n",
       "      <td>friendship</td>\n",
       "      <td>profit</td>\n",
       "      <td>worth</td>\n",
       "    </tr>\n",
       "    <tr>\n",
       "      <th>14483</th>\n",
       "      <td>give</td>\n",
       "      <td>computer</td>\n",
       "      <td>information</td>\n",
       "      <td>follower</td>\n",
       "      <td>judge</td>\n",
       "    </tr>\n",
       "    <tr>\n",
       "      <th>2281</th>\n",
       "      <td>have</td>\n",
       "      <td>lender</td>\n",
       "      <td>doubt</td>\n",
       "      <td>form</td>\n",
       "      <td>part</td>\n",
       "    </tr>\n",
       "    <tr>\n",
       "      <th>5272</th>\n",
       "      <td>make</td>\n",
       "      <td>premier</td>\n",
       "      <td>promise</td>\n",
       "      <td>chairman</td>\n",
       "      <td>credit</td>\n",
       "    </tr>\n",
       "    <tr>\n",
       "      <th>3418</th>\n",
       "      <td>stimulate</td>\n",
       "      <td>rebate</td>\n",
       "      <td>sale</td>\n",
       "      <td>comedy</td>\n",
       "      <td>view</td>\n",
       "    </tr>\n",
       "  </tbody>\n",
       "</table>\n",
       "</div>"
      ],
      "text/plain": [
       "            verb     pos_sbj     pos_dobj   neg_sbj    neg_dobj\n",
       "4147       admit        none   allegation     panel  transition\n",
       "8051   implement  government       reform     issue       stage\n",
       "7320       spend   committee         time    office   president\n",
       "7507       reach    purchase    recipient      plan    guidance\n",
       "19411    receive        kind      comment      none     victory\n",
       "9491        have      people   friendship    profit       worth\n",
       "14483       give    computer  information  follower       judge\n",
       "2281        have      lender        doubt      form        part\n",
       "5272        make     premier      promise  chairman      credit\n",
       "3418   stimulate      rebate         sale    comedy        view"
      ]
     },
     "execution_count": 17,
     "metadata": {},
     "output_type": "execute_result"
    }
   ],
   "source": [
    "test_ds_same_freq.sample(10)"
   ]
  },
  {
   "cell_type": "code",
   "execution_count": 18,
   "metadata": {},
   "outputs": [],
   "source": [
    "ds_examine2 = compute_examine_dataset(test_ds_unigram)"
   ]
  },
  {
   "cell_type": "code",
   "execution_count": 27,
   "metadata": {},
   "outputs": [
    {
     "data": {
      "image/png": "[encoded data removed]",
      "text/plain": [
       "<Figure size 432x216 with 2 Axes>"
      ]
     },
     "metadata": {},
     "output_type": "display_data"
    }
   ],
   "source": [
    "g = sns.FacetGrid(ds_examine2, col='type').map_dataframe(plot_histogram, 'sbj')"
   ]
  },
  {
   "cell_type": "code",
   "execution_count": 28,
   "metadata": {},
   "outputs": [
    {
     "data": {
      "image/png": "[encoded data removed]",
      "text/plain": [
       "<Figure size 432x216 with 2 Axes>"
      ]
     },
     "metadata": {},
     "output_type": "display_data"
    }
   ],
   "source": [
    "g = sns.FacetGrid(ds_examine2, col='type').map_dataframe(plot_histogram, 'dobj')"
   ]
  },
  {
   "cell_type": "code",
   "execution_count": 21,
   "metadata": {},
   "outputs": [
    {
     "data": {
      "image/png": "[encoded data removed]",
      "text/plain": [
       "<Figure size 432x216 with 2 Axes>"
      ]
     },
     "metadata": {},
     "output_type": "display_data"
    }
   ],
   "source": [
    "g = sns.FacetGrid(ds_examine2, col='type').map_dataframe(plot_most_common_words, 'dobj')"
   ]
  },
  {
   "cell_type": "code",
   "execution_count": 22,
   "metadata": {},
   "outputs": [
    {
     "data": {
      "image/png": "[encoded data removed]",
      "text/plain": [
       "<Figure size 432x216 with 2 Axes>"
      ]
     },
     "metadata": {},
     "output_type": "display_data"
    }
   ],
   "source": [
    "g = sns.FacetGrid(ds_examine2, col='type').map_dataframe(plot_most_common_words, 'sbj')"
   ]
  },
  {
   "cell_type": "code",
   "execution_count": 23,
   "metadata": {
    "scrolled": true
   },
   "outputs": [
    {
     "data": {
      "text/html": [
       "<div>\n",
       "<style scoped>\n",
       "    .dataframe tbody tr th:only-of-type {\n",
       "        vertical-align: middle;\n",
       "    }\n",
       "\n",
       "    .dataframe tbody tr th {\n",
       "        vertical-align: top;\n",
       "    }\n",
       "\n",
       "    .dataframe thead th {\n",
       "        text-align: right;\n",
       "    }\n",
       "</style>\n",
       "<table border=\"1\" class=\"dataframe\">\n",
       "  <thead>\n",
       "    <tr style=\"text-align: right;\">\n",
       "      <th></th>\n",
       "      <th>verb</th>\n",
       "      <th>pos_sbj</th>\n",
       "      <th>pos_dobj</th>\n",
       "      <th>neg_sbj</th>\n",
       "      <th>neg_dobj</th>\n",
       "    </tr>\n",
       "  </thead>\n",
       "  <tbody>\n",
       "    <tr>\n",
       "      <th>12996</th>\n",
       "      <td>make</td>\n",
       "      <td>man</td>\n",
       "      <td>statement</td>\n",
       "      <td>friendship</td>\n",
       "      <td>period</td>\n",
       "    </tr>\n",
       "    <tr>\n",
       "      <th>9468</th>\n",
       "      <td>carry</td>\n",
       "      <td>worker</td>\n",
       "      <td>repair</td>\n",
       "      <td>group</td>\n",
       "      <td>trust</td>\n",
       "    </tr>\n",
       "    <tr>\n",
       "      <th>12741</th>\n",
       "      <td>represent</td>\n",
       "      <td>he</td>\n",
       "      <td>force</td>\n",
       "      <td>incident</td>\n",
       "      <td>volatility</td>\n",
       "    </tr>\n",
       "    <tr>\n",
       "      <th>15548</th>\n",
       "      <td>debate</td>\n",
       "      <td>official</td>\n",
       "      <td>fate</td>\n",
       "      <td>officer</td>\n",
       "      <td>sibling</td>\n",
       "    </tr>\n",
       "    <tr>\n",
       "      <th>14327</th>\n",
       "      <td>prevent</td>\n",
       "      <td>luck</td>\n",
       "      <td>wave</td>\n",
       "      <td>company</td>\n",
       "      <td>fire</td>\n",
       "    </tr>\n",
       "    <tr>\n",
       "      <th>1741</th>\n",
       "      <td>do</td>\n",
       "      <td>member</td>\n",
       "      <td>chore</td>\n",
       "      <td>investor</td>\n",
       "      <td>money</td>\n",
       "    </tr>\n",
       "    <tr>\n",
       "      <th>2121</th>\n",
       "      <td>generate</td>\n",
       "      <td>shock</td>\n",
       "      <td>impulse</td>\n",
       "      <td>judge</td>\n",
       "      <td>good</td>\n",
       "    </tr>\n",
       "    <tr>\n",
       "      <th>13812</th>\n",
       "      <td>fell</td>\n",
       "      <td>future</td>\n",
       "      <td>point</td>\n",
       "      <td>anyone</td>\n",
       "      <td>supplier</td>\n",
       "    </tr>\n",
       "    <tr>\n",
       "      <th>10578</th>\n",
       "      <td>turn</td>\n",
       "      <td>demonstrator</td>\n",
       "      <td>fury</td>\n",
       "      <td>lawmaker</td>\n",
       "      <td>jury</td>\n",
       "    </tr>\n",
       "    <tr>\n",
       "      <th>12745</th>\n",
       "      <td>offer</td>\n",
       "      <td>it</td>\n",
       "      <td>promotion</td>\n",
       "      <td>it</td>\n",
       "      <td>speech</td>\n",
       "    </tr>\n",
       "  </tbody>\n",
       "</table>\n",
       "</div>"
      ],
      "text/plain": [
       "            verb       pos_sbj   pos_dobj     neg_sbj    neg_dobj\n",
       "12996       make           man  statement  friendship      period\n",
       "9468       carry        worker     repair       group       trust\n",
       "12741  represent            he      force    incident  volatility\n",
       "15548     debate      official       fate     officer     sibling\n",
       "14327    prevent          luck       wave     company        fire\n",
       "1741          do        member      chore    investor       money\n",
       "2121    generate         shock    impulse       judge        good\n",
       "13812       fell        future      point      anyone    supplier\n",
       "10578       turn  demonstrator       fury    lawmaker        jury\n",
       "12745      offer            it  promotion          it      speech"
      ]
     },
     "execution_count": 23,
     "metadata": {},
     "output_type": "execute_result"
    }
   ],
   "source": [
    "test_ds_unigram.sample(10)"
   ]
  },
  {
   "cell_type": "markdown",
   "metadata": {},
   "source": [
    "# Encode into numerical values"
   ]
  },
  {
   "cell_type": "code",
   "execution_count": 43,
   "metadata": {},
   "outputs": [],
   "source": [
    "encoder = joblib.load('output/ukwac-encoder.pkl')\n",
    "vocab = set(encoder.classes_)"
   ]
  },
  {
   "cell_type": "code",
   "execution_count": 44,
   "metadata": {},
   "outputs": [],
   "source": [
    "def transform_dataset(df):\n",
    "    num_cols = len(df.columns)\n",
    "    vals = df.values.reshape(-1)\n",
    "    vals = [(v if v in vocab else '<unkn>') for v in vals]\n",
    "    x = encoder.transform(vals).reshape(-1, num_cols)\n",
    "    return x"
   ]
  },
  {
   "cell_type": "code",
   "execution_count": 45,
   "metadata": {},
   "outputs": [],
   "source": [
    "encoded_test_ds_same_freq = transform_dataset(test_ds_same_freq)\n",
    "encoded_test_ds_unigram = transform_dataset(test_ds_unigram)"
   ]
  },
  {
   "cell_type": "code",
   "execution_count": 46,
   "metadata": {},
   "outputs": [
    {
     "data": {
      "text/plain": [
       "array([[ 5251,  7885,  6446, 10394,  3317],\n",
       "       [ 9954, 11123,  5126,  3938,  6744],\n",
       "       [12781,  5608,  1039, 11645, 10400],\n",
       "       [ 9666,  6541,  7637,  1290, 10488],\n",
       "       [ 6414,  6093,  3451,  9112,  4570]])"
      ]
     },
     "execution_count": 46,
     "metadata": {},
     "output_type": "execute_result"
    }
   ],
   "source": [
    "encoded_test_ds_same_freq[:5]"
   ]
  },
  {
   "cell_type": "code",
   "execution_count": 47,
   "metadata": {},
   "outputs": [
    {
     "data": {
      "text/plain": [
       "array([[ 5251,  7885,  6446,  6221, 10822],\n",
       "       [ 9954, 11123,  5126, 11860, 11511],\n",
       "       [12781,  5608,  1039,  7216,  8119],\n",
       "       [ 9666,  6541,  7637,  3157,  8813],\n",
       "       [ 6414,  6093,  3451, 10481, 11595]])"
      ]
     },
     "execution_count": 47,
     "metadata": {},
     "output_type": "execute_result"
    }
   ],
   "source": [
    "encoded_test_ds_unigram[:5]"
   ]
  },
  {
   "cell_type": "code",
   "execution_count": 48,
   "metadata": {},
   "outputs": [],
   "source": [
    "import numpy as np\n",
    "np.save('output/ontonote-svo-same-freq.npy', encoded_test_ds_same_freq)\n",
    "np.save('output/ontonote-svo-unigram-freq.npy', encoded_test_ds_unigram)"
   ]
  },
  {
   "cell_type": "markdown",
   "metadata": {},
   "source": [
    "# Vocabulary coverage"
   ]
  },
  {
   "cell_type": "code",
   "execution_count": 52,
   "metadata": {},
   "outputs": [
    {
     "data": {
      "text/plain": [
       "0.9675645342312009"
      ]
     },
     "execution_count": 52,
     "metadata": {},
     "output_type": "execute_result"
    }
   ],
   "source": [
    "count_in_vocab = sum(1 for w in test_ds_same_freq.values.flatten() if w in vocab)\n",
    "count_in_vocab / test_ds_same_freq.values.size"
   ]
  },
  {
   "cell_type": "code",
   "execution_count": 53,
   "metadata": {},
   "outputs": [
    {
     "data": {
      "text/plain": [
       "0.967289052137537"
      ]
     },
     "execution_count": 53,
     "metadata": {},
     "output_type": "execute_result"
    }
   ],
   "source": [
    "count_in_vocab = sum(1 for w in test_ds_unigram.values.flatten() if w in vocab)\n",
    "count_in_vocab / test_ds_unigram.values.size"
   ]
  },
  {
   "cell_type": "code",
   "execution_count": null,
   "metadata": {},
   "outputs": [],
   "source": []
  }
 ],
 "metadata": {
  "kernelspec": {
   "display_name": "Python 3",
   "language": "python",
   "name": "python3"
  },
  "language_info": {
   "codemirror_mode": {
    "name": "ipython",
    "version": 3
   },
   "file_extension": ".py",
   "mimetype": "text/x-python",
   "name": "python",
   "nbconvert_exporter": "python",
   "pygments_lexer": "ipython3",
   "version": "3.6.2"
  }
 },
 "nbformat": 4,
 "nbformat_minor": 2
}
