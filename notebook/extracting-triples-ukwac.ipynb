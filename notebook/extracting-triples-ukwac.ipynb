{
 "cells": [
  {
   "cell_type": "code",
   "execution_count": 3,
   "metadata": {},
   "outputs": [],
   "source": [
    "import sys\n",
    "if '..' not in sys.path: \n",
    "    sys.path.append('..')"
   ]
  },
  {
   "cell_type": "code",
   "execution_count": 4,
   "metadata": {},
   "outputs": [],
   "source": [
    "%matplotlib inline\n",
    "from conll import parse_dep_tree\n",
    "import gzip\n",
    "from tqdm import tqdm\n",
    "from glob import glob\n",
    "from ukwac import *\n",
    "from itertools import islice\n",
    "from collections import Counter\n",
    "import seaborn as sns\n",
    "import pandas as pd\n",
    "import re\n",
    "from joblib import Parallel, delayed\n",
    "from time import time\n",
    "import os"
   ]
  },
  {
   "cell_type": "code",
   "execution_count": 5,
   "metadata": {},
   "outputs": [],
   "source": [
    "paths = sorted(glob('../data/ukwac-dep/*.gz'))"
   ]
  },
  {
   "cell_type": "markdown",
   "metadata": {},
   "source": [
    "# Triple extraction"
   ]
  },
  {
   "cell_type": "code",
   "execution_count": 21,
   "metadata": {},
   "outputs": [
    {
     "name": "stdout",
     "output_type": "stream",
     "text": [
      "Output is printed to command line instead of notebook.\n"
     ]
    },
    {
     "name": "stderr",
     "output_type": "stream",
     "text": [
      "\n",
      "\n",
      "\n"
     ]
    },
    {
     "name": "stdout",
     "output_type": "stream",
     "text": [
      "CPU times: user 385 ms, sys: 233 ms, total: 618 ms\n",
      "Wall time: 3h 2min 12s\n"
     ]
    }
   ],
   "source": [
    "%%time\n",
    "\n",
    "def write_triples_single_process(inp_path, out_path, idx):\n",
    "    with gzip.open(out_path, 'wb') as f_out:\n",
    "        for triple in iter_triples(\n",
    "                iter_dep_trees_from_file(\n",
    "                    iter_lines_counting(inp_path, idx))):\n",
    "            f_out.write(('%s\\t%s\\t%s\\n' %triple).encode('utf-8'))\n",
    "\n",
    "print('Progress is printed to command line instead of notebook.')\n",
    "out_dir = '../output/ukwac-triples'\n",
    "os.makedirs(out_dir, exist_ok=True)\n",
    "out_path_pattern = os.path.join(out_dir, '%02d.tsv.gz')\n",
    "Parallel(n_jobs=3)(delayed(write_triples_single_process)(p, out_path_pattern%i, i) \n",
    "                   for i, p in enumerate(paths))"
   ]
  }
 ],
 "metadata": {
  "kernelspec": {
   "display_name": "Python 3",
   "language": "python",
   "name": "python3"
  },
  "language_info": {
   "codemirror_mode": {
    "name": "ipython",
    "version": 3
   },
   "file_extension": ".py",
   "mimetype": "text/x-python",
   "name": "python",
   "nbconvert_exporter": "python",
   "pygments_lexer": "ipython3",
   "version": "3.6.2"
  }
 },
 "nbformat": 4,
 "nbformat_minor": 2
}
