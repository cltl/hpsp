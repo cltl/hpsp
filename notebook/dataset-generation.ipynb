{
 "cells": [
  {
   "cell_type": "code",
   "execution_count": 190,
   "metadata": {},
   "outputs": [],
   "source": [
    "import os\n",
    "if os.getcwd().endswith('/notebook'):\n",
    "    os.chdir('..')"
   ]
  },
  {
   "cell_type": "code",
   "execution_count": 191,
   "metadata": {},
   "outputs": [],
   "source": [
    "import pandas as pd\n",
    "df = pd.read_csv('output/ontonote-svo.txt', sep='\\t', names=['sbj', 'verb', 'dobj'])"
   ]
  },
  {
   "cell_type": "code",
   "execution_count": 192,
   "metadata": {},
   "outputs": [
    {
     "data": {
      "text/html": [
       "<div>\n",
       "<style scoped>\n",
       "    .dataframe tbody tr th:only-of-type {\n",
       "        vertical-align: middle;\n",
       "    }\n",
       "\n",
       "    .dataframe tbody tr th {\n",
       "        vertical-align: top;\n",
       "    }\n",
       "\n",
       "    .dataframe thead th {\n",
       "        text-align: right;\n",
       "    }\n",
       "</style>\n",
       "<table border=\"1\" class=\"dataframe\">\n",
       "  <thead>\n",
       "    <tr style=\"text-align: right;\">\n",
       "      <th></th>\n",
       "      <th>sbj</th>\n",
       "      <th>verb</th>\n",
       "      <th>dobj</th>\n",
       "    </tr>\n",
       "  </thead>\n",
       "  <tbody>\n",
       "    <tr>\n",
       "      <th>9764</th>\n",
       "      <td>action</td>\n",
       "      <td>reflect</td>\n",
       "      <td>weakness</td>\n",
       "    </tr>\n",
       "    <tr>\n",
       "      <th>210</th>\n",
       "      <td>people</td>\n",
       "      <td>make</td>\n",
       "      <td>detour</td>\n",
       "    </tr>\n",
       "    <tr>\n",
       "      <th>10072</th>\n",
       "      <td>people</td>\n",
       "      <td>chase</td>\n",
       "      <td>promise</td>\n",
       "    </tr>\n",
       "    <tr>\n",
       "      <th>14306</th>\n",
       "      <td>network</td>\n",
       "      <td>press</td>\n",
       "      <td>fight</td>\n",
       "    </tr>\n",
       "    <tr>\n",
       "      <th>1890</th>\n",
       "      <td>battle</td>\n",
       "      <td>include</td>\n",
       "      <td>picture</td>\n",
       "    </tr>\n",
       "  </tbody>\n",
       "</table>\n",
       "</div>"
      ],
      "text/plain": [
       "           sbj     verb      dobj\n",
       "9764    action  reflect  weakness\n",
       "210     people     make    detour\n",
       "10072   people    chase   promise\n",
       "14306  network    press     fight\n",
       "1890    battle  include   picture"
      ]
     },
     "execution_count": 192,
     "metadata": {},
     "output_type": "execute_result"
    }
   ],
   "source": [
    "df.sample(5)"
   ]
  },
  {
   "cell_type": "code",
   "execution_count": 193,
   "metadata": {},
   "outputs": [
    {
     "data": {
      "text/plain": [
       "20885"
      ]
     },
     "execution_count": 193,
     "metadata": {},
     "output_type": "execute_result"
    }
   ],
   "source": [
    "len(df)"
   ]
  },
  {
   "cell_type": "code",
   "execution_count": 194,
   "metadata": {},
   "outputs": [],
   "source": [
    "from sklearn.model_selection import train_test_split"
   ]
  },
  {
   "cell_type": "markdown",
   "metadata": {},
   "source": [
    "Randomly split the available tuples into training and testing. Following Cruys (2014), we will perform instance-based training and type-based testing. The duplicates in the training set gives the model a sense of typicality."
   ]
  },
  {
   "cell_type": "code",
   "execution_count": 195,
   "metadata": {},
   "outputs": [],
   "source": [
    "train_ds_pos, test_ds_pos = train_test_split(df, test_size=0.5, random_state=285230)\n",
    "test_ds_pos = test_ds_pos.drop_duplicates()"
   ]
  },
  {
   "cell_type": "markdown",
   "metadata": {},
   "source": [
    "Training set will only contain positive examples (because we're going to sample negative example during training) while test set will also contain negative examples chosen in the same frequency band."
   ]
  },
  {
   "cell_type": "code",
   "execution_count": 196,
   "metadata": {},
   "outputs": [],
   "source": [
    "import math\n",
    "\n",
    "def compute_frequency_band_mapping(series):\n",
    "    counts = series.value_counts()\n",
    "    n_tenth = int(math.ceil(len(counts)/10))\n",
    "    bands = [counts.iloc[i*n_tenth:(i+1)*n_tenth].index.values for i in range(10)]\n",
    "    assert len(counts) == sum(len(band) for band in bands)\n",
    "    return {val:band for band in bands for val in band}"
   ]
  },
  {
   "cell_type": "code",
   "execution_count": 197,
   "metadata": {},
   "outputs": [],
   "source": [
    "dobj2band = compute_frequency_band_mapping(df['dobj'])"
   ]
  },
  {
   "cell_type": "code",
   "execution_count": 198,
   "metadata": {},
   "outputs": [],
   "source": [
    "sbj2band = compute_frequency_band_mapping(df['sbj'])"
   ]
  },
  {
   "cell_type": "code",
   "execution_count": 199,
   "metadata": {},
   "outputs": [],
   "source": [
    "import random\n",
    "from collections import OrderedDict"
   ]
  },
  {
   "cell_type": "code",
   "execution_count": 200,
   "metadata": {},
   "outputs": [],
   "source": [
    "pos_examples_as_set = set(tuple(row) for row in df.values)"
   ]
  },
  {
   "cell_type": "code",
   "execution_count": 201,
   "metadata": {},
   "outputs": [],
   "source": [
    "rng = random.Random(238293)\n",
    "test_examples = []\n",
    "for _, pos_row in test_ds_pos.iterrows():\n",
    "    pos_sbj, verb, pos_dobj = pos_row.values\n",
    "    neg_sbj, neg_dobj = pos_sbj, pos_dobj\n",
    "    while (neg_sbj, verb, neg_dobj) in pos_examples_as_set:\n",
    "        neg_sbj = rng.choice(sbj2band[pos_sbj])\n",
    "        neg_dobj = rng.choice(dobj2band[pos_dobj])\n",
    "    test_examples.append(OrderedDict([('verb', verb), \n",
    "                                      ('pos_sbj', pos_sbj), ('pos_dobj', pos_dobj),\n",
    "                                      ('neg_sbj', neg_sbj), ('neg_dobj', neg_dobj)]))\n",
    "test_ds = pd.DataFrame(test_examples)"
   ]
  },
  {
   "cell_type": "code",
   "execution_count": 202,
   "metadata": {},
   "outputs": [],
   "source": [
    "train_ds_pos.to_csv('output/ontonote-svo-train.txt', sep='\\t', index=False, header=False)\n",
    "test_ds.to_csv('output/ontonote-svo-test.txt', sep='\\t', index=False, header=False)"
   ]
  },
  {
   "cell_type": "markdown",
   "metadata": {},
   "source": [
    "# Examine the datasets"
   ]
  },
  {
   "cell_type": "code",
   "execution_count": 203,
   "metadata": {},
   "outputs": [
    {
     "data": {
      "text/plain": [
       "10442"
      ]
     },
     "execution_count": 203,
     "metadata": {},
     "output_type": "execute_result"
    }
   ],
   "source": [
    "len(train_ds_pos)"
   ]
  },
  {
   "cell_type": "code",
   "execution_count": 204,
   "metadata": {},
   "outputs": [
    {
     "data": {
      "text/plain": [
       "10056"
      ]
     },
     "execution_count": 204,
     "metadata": {},
     "output_type": "execute_result"
    }
   ],
   "source": [
    "len(test_ds)"
   ]
  },
  {
   "cell_type": "code",
   "execution_count": 205,
   "metadata": {},
   "outputs": [],
   "source": [
    "%matplotlib inline\n",
    "import seaborn as sns"
   ]
  },
  {
   "cell_type": "code",
   "execution_count": 206,
   "metadata": {},
   "outputs": [],
   "source": [
    "train_pos_examine = train_ds_pos.copy()\n",
    "train_pos_examine['type'] = 'train_pos'\n",
    "test_pos_examine = (test_ds[['pos_sbj', 'verb', 'pos_dobj']].copy()\n",
    "                    .rename(columns={'pos_sbj': 'sbj', 'pos_dobj': 'dobj'}))\n",
    "test_pos_examine['type'] = 'test_pos'\n",
    "test_neg_examine = (test_ds[['neg_sbj', 'verb', 'neg_dobj']].copy()\n",
    "                    .rename(columns={'neg_sbj': 'sbj', 'neg_dobj': 'dobj'}))\n",
    "test_neg_examine['type'] = 'test_neg'\n",
    "ds_examine = pd.concat([train_pos_examine, test_pos_examine, test_neg_examine])"
   ]
  },
  {
   "cell_type": "code",
   "execution_count": 207,
   "metadata": {},
   "outputs": [],
   "source": [
    "def plot_most_common_words(col_name, *args, **kwargs): \n",
    "    df = kwargs['data']\n",
    "    df[col_name].value_counts().head(30).plot('bar', fontsize='small')\n",
    "import matplotlib.pyplot as plt"
   ]
  },
  {
   "cell_type": "code",
   "execution_count": 208,
   "metadata": {},
   "outputs": [
    {
     "data": {
      "image/png": "[encoded data removed]",
      "text/plain": [
       "<Figure size 648x216 with 3 Axes>"
      ]
     },
     "metadata": {},
     "output_type": "display_data"
    }
   ],
   "source": [
    "g = sns.FacetGrid(ds_examine, col='type')\n",
    "_ = g.map_dataframe(plot_most_common_words, 'dobj')"
   ]
  },
  {
   "cell_type": "code",
   "execution_count": 209,
   "metadata": {},
   "outputs": [
    {
     "data": {
      "image/png": "[encoded data removed]",
      "text/plain": [
       "<Figure size 648x216 with 3 Axes>"
      ]
     },
     "metadata": {},
     "output_type": "display_data"
    }
   ],
   "source": [
    "g = sns.FacetGrid(ds_examine, col='type')\n",
    "_ = g.map_dataframe(plot_most_common_words, 'sbj')"
   ]
  },
  {
   "cell_type": "code",
   "execution_count": 210,
   "metadata": {},
   "outputs": [
    {
     "data": {
      "text/html": [
       "<div>\n",
       "<style scoped>\n",
       "    .dataframe tbody tr th:only-of-type {\n",
       "        vertical-align: middle;\n",
       "    }\n",
       "\n",
       "    .dataframe tbody tr th {\n",
       "        vertical-align: top;\n",
       "    }\n",
       "\n",
       "    .dataframe thead th {\n",
       "        text-align: right;\n",
       "    }\n",
       "</style>\n",
       "<table border=\"1\" class=\"dataframe\">\n",
       "  <thead>\n",
       "    <tr style=\"text-align: right;\">\n",
       "      <th></th>\n",
       "      <th>verb</th>\n",
       "      <th>pos_sbj</th>\n",
       "      <th>pos_dobj</th>\n",
       "      <th>neg_sbj</th>\n",
       "      <th>neg_dobj</th>\n",
       "    </tr>\n",
       "  </thead>\n",
       "  <tbody>\n",
       "    <tr>\n",
       "      <th>8421</th>\n",
       "      <td>reach</td>\n",
       "      <td>hysteria</td>\n",
       "      <td>pitch</td>\n",
       "      <td>rerun</td>\n",
       "      <td>suicide</td>\n",
       "    </tr>\n",
       "    <tr>\n",
       "      <th>4480</th>\n",
       "      <td>put</td>\n",
       "      <td>representative</td>\n",
       "      <td>plan</td>\n",
       "      <td>i</td>\n",
       "      <td>dividend</td>\n",
       "    </tr>\n",
       "    <tr>\n",
       "      <th>1127</th>\n",
       "      <td>have</td>\n",
       "      <td>outlook</td>\n",
       "      <td>tilt</td>\n",
       "      <td>recommendation</td>\n",
       "      <td>u-turn</td>\n",
       "    </tr>\n",
       "    <tr>\n",
       "      <th>8696</th>\n",
       "      <td>take</td>\n",
       "      <td>individual</td>\n",
       "      <td>time</td>\n",
       "      <td>operation</td>\n",
       "      <td>plant</td>\n",
       "    </tr>\n",
       "    <tr>\n",
       "      <th>2135</th>\n",
       "      <td>give</td>\n",
       "      <td>public</td>\n",
       "      <td>attention</td>\n",
       "      <td>worker</td>\n",
       "      <td>number</td>\n",
       "    </tr>\n",
       "    <tr>\n",
       "      <th>3078</th>\n",
       "      <td>foot</td>\n",
       "      <td>company</td>\n",
       "      <td>amount</td>\n",
       "      <td>statement</td>\n",
       "      <td>package</td>\n",
       "    </tr>\n",
       "    <tr>\n",
       "      <th>334</th>\n",
       "      <td>count</td>\n",
       "      <td>state</td>\n",
       "      <td>vote</td>\n",
       "      <td>president</td>\n",
       "      <td>voice</td>\n",
       "    </tr>\n",
       "    <tr>\n",
       "      <th>3583</th>\n",
       "      <td>adopt</td>\n",
       "      <td>market</td>\n",
       "      <td>breaker</td>\n",
       "      <td>computer</td>\n",
       "      <td>church</td>\n",
       "    </tr>\n",
       "    <tr>\n",
       "      <th>1135</th>\n",
       "      <td>get</td>\n",
       "      <td>hundred</td>\n",
       "      <td>nothing</td>\n",
       "      <td>account</td>\n",
       "      <td>bill</td>\n",
       "    </tr>\n",
       "    <tr>\n",
       "      <th>9034</th>\n",
       "      <td>have</td>\n",
       "      <td>family</td>\n",
       "      <td>son</td>\n",
       "      <td>firm</td>\n",
       "      <td>judge</td>\n",
       "    </tr>\n",
       "  </tbody>\n",
       "</table>\n",
       "</div>"
      ],
      "text/plain": [
       "       verb         pos_sbj   pos_dobj         neg_sbj  neg_dobj\n",
       "8421  reach        hysteria      pitch           rerun   suicide\n",
       "4480    put  representative       plan               i  dividend\n",
       "1127   have         outlook       tilt  recommendation    u-turn\n",
       "8696   take      individual       time       operation     plant\n",
       "2135   give          public  attention          worker    number\n",
       "3078   foot         company     amount       statement   package\n",
       "334   count           state       vote       president     voice\n",
       "3583  adopt          market    breaker        computer    church\n",
       "1135    get         hundred    nothing         account      bill\n",
       "9034   have          family        son            firm     judge"
      ]
     },
     "execution_count": 210,
     "metadata": {},
     "output_type": "execute_result"
    }
   ],
   "source": [
    "test_ds.sample(10)"
   ]
  },
  {
   "cell_type": "markdown",
   "metadata": {},
   "source": [
    "# Encode into numerical values"
   ]
  },
  {
   "cell_type": "code",
   "execution_count": 211,
   "metadata": {},
   "outputs": [],
   "source": [
    "from sklearn.preprocessing import LabelEncoder\n",
    "encoder = LabelEncoder()"
   ]
  },
  {
   "cell_type": "code",
   "execution_count": 212,
   "metadata": {},
   "outputs": [],
   "source": [
    "encoder.fit(list(train_ds_pos.values.reshape(-1)) + ['<unkn>'])\n",
    "vocab = set(encoder.classes_)"
   ]
  },
  {
   "cell_type": "code",
   "execution_count": 213,
   "metadata": {},
   "outputs": [
    {
     "data": {
      "text/plain": [
       "4466"
      ]
     },
     "execution_count": 213,
     "metadata": {},
     "output_type": "execute_result"
    }
   ],
   "source": [
    "len(vocab)"
   ]
  },
  {
   "cell_type": "code",
   "execution_count": 214,
   "metadata": {},
   "outputs": [],
   "source": [
    "def transform_dataset(df):\n",
    "    num_cols = len(df.columns)\n",
    "    vals = df.values.reshape(-1)\n",
    "    vals = [(v if v in vocab else '<unkn>') for v in vals]\n",
    "    x = encoder.transform(vals).reshape(-1, num_cols)\n",
    "    return x"
   ]
  },
  {
   "cell_type": "code",
   "execution_count": 215,
   "metadata": {},
   "outputs": [],
   "source": [
    "encoded_train_ds_pos = transform_dataset(train_ds_pos[['verb', 'sbj', 'dobj']])\n",
    "encoded_test_ds = transform_dataset(test_ds[['verb', 'pos_sbj', 'pos_dobj', 'neg_sbj', 'neg_dobj']])"
   ]
  },
  {
   "cell_type": "code",
   "execution_count": 216,
   "metadata": {},
   "outputs": [
    {
     "data": {
      "text/plain": [
       "array([[1738, 2807, 4358],\n",
       "       [3921, 2572, 1321],\n",
       "       [1386, 1855, 3894],\n",
       "       [1849,  793, 2867],\n",
       "       [3468, 1764, 1434]])"
      ]
     },
     "execution_count": 216,
     "metadata": {},
     "output_type": "execute_result"
    }
   ],
   "source": [
    "encoded_train_ds_pos[:5]"
   ]
  },
  {
   "cell_type": "code",
   "execution_count": 217,
   "metadata": {},
   "outputs": [
    {
     "data": {
      "text/plain": [
       "array([[2338, 1494,  474, 1928, 3341],\n",
       "       [1849, 2544, 3853, 2909, 2210],\n",
       "       [2338, 2603, 3306, 4057, 3397],\n",
       "       [   7, 3236,  651,  408, 4323],\n",
       "       [3530, 1693, 2112,  836, 3367]])"
      ]
     },
     "execution_count": 217,
     "metadata": {},
     "output_type": "execute_result"
    }
   ],
   "source": [
    "encoded_test_ds[:5]"
   ]
  },
  {
   "cell_type": "code",
   "execution_count": 218,
   "metadata": {},
   "outputs": [],
   "source": [
    "from joblib import dump"
   ]
  },
  {
   "cell_type": "code",
   "execution_count": 219,
   "metadata": {},
   "outputs": [
    {
     "data": {
      "text/plain": [
       "['output/ontonote-encoder.pkl']"
      ]
     },
     "execution_count": 219,
     "metadata": {},
     "output_type": "execute_result"
    }
   ],
   "source": [
    "dump(encoder, 'output/ontonote-encoder.pkl')"
   ]
  },
  {
   "cell_type": "code",
   "execution_count": 220,
   "metadata": {},
   "outputs": [],
   "source": [
    "import numpy as np\n",
    "np.save('output/ontonote-svo-train.npy', encoded_train_ds_pos)\n",
    "np.save('output/ontonote-svo-test.npy', encoded_test_ds)"
   ]
  },
  {
   "cell_type": "markdown",
   "metadata": {},
   "source": [
    "# Coverage"
   ]
  },
  {
   "cell_type": "code",
   "execution_count": 221,
   "metadata": {},
   "outputs": [
    {
     "data": {
      "text/plain": [
       "47528"
      ]
     },
     "execution_count": 221,
     "metadata": {},
     "output_type": "execute_result"
    }
   ],
   "source": [
    "sum(1 for w in test_ds.values.flatten() if w in vocab)"
   ]
  },
  {
   "cell_type": "code",
   "execution_count": 222,
   "metadata": {},
   "outputs": [
    {
     "data": {
      "text/plain": [
       "50280"
      ]
     },
     "execution_count": 222,
     "metadata": {},
     "output_type": "execute_result"
    }
   ],
   "source": [
    "test_ds.values.size"
   ]
  },
  {
   "cell_type": "code",
   "execution_count": null,
   "metadata": {},
   "outputs": [],
   "source": []
  }
 ],
 "metadata": {
  "kernelspec": {
   "display_name": "Python 3",
   "language": "python",
   "name": "python3"
  },
  "language_info": {
   "codemirror_mode": {
    "name": "ipython",
    "version": 3
   },
   "file_extension": ".py",
   "mimetype": "text/x-python",
   "name": "python",
   "nbconvert_exporter": "python",
   "pygments_lexer": "ipython3",
   "version": "3.6.2"
  }
 },
 "nbformat": 4,
 "nbformat_minor": 2
}
