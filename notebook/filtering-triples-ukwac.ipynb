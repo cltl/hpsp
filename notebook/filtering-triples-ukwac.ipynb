{
 "cells": [
  {
   "cell_type": "code",
   "execution_count": 4,
   "metadata": {},
   "outputs": [],
   "source": [
    "triples_path_pattern = '../output/ukwac-triples/%02d.tsv.gz'"
   ]
  },
  {
   "cell_type": "code",
   "execution_count": 5,
   "metadata": {},
   "outputs": [],
   "source": [
    "%matplotlib inline\n",
    "import pandas as pd\n",
    "from collections import Counter\n",
    "import seaborn as sns"
   ]
  },
  {
   "cell_type": "markdown",
   "metadata": {},
   "source": [
    "# Reading data"
   ]
  },
  {
   "cell_type": "code",
   "execution_count": 6,
   "metadata": {},
   "outputs": [],
   "source": [
    "dfs = [pd.read_csv(triples_path_pattern % i, delimiter='\\t', compression='gzip',\n",
    "                   header = None, names = ['sbj', 'verb', 'dobj'])\n",
    "       for i in range(5)]"
   ]
  },
  {
   "cell_type": "code",
   "execution_count": 7,
   "metadata": {},
   "outputs": [
    {
     "data": {
      "text/html": [
       "<div>\n",
       "<style scoped>\n",
       "    .dataframe tbody tr th:only-of-type {\n",
       "        vertical-align: middle;\n",
       "    }\n",
       "\n",
       "    .dataframe tbody tr th {\n",
       "        vertical-align: top;\n",
       "    }\n",
       "\n",
       "    .dataframe thead th {\n",
       "        text-align: right;\n",
       "    }\n",
       "</style>\n",
       "<table border=\"1\" class=\"dataframe\">\n",
       "  <thead>\n",
       "    <tr style=\"text-align: right;\">\n",
       "      <th></th>\n",
       "      <th>sbj</th>\n",
       "      <th>verb</th>\n",
       "      <th>dobj</th>\n",
       "    </tr>\n",
       "  </thead>\n",
       "  <tbody>\n",
       "    <tr>\n",
       "      <th>0</th>\n",
       "      <td>child</td>\n",
       "      <td>terrorise</td>\n",
       "      <td>resident</td>\n",
       "    </tr>\n",
       "    <tr>\n",
       "      <th>1</th>\n",
       "      <td>citizen</td>\n",
       "      <td>describe</td>\n",
       "      <td>birthplace</td>\n",
       "    </tr>\n",
       "    <tr>\n",
       "      <th>2</th>\n",
       "      <td>fan</td>\n",
       "      <td>wear</td>\n",
       "      <td>shirt</td>\n",
       "    </tr>\n",
       "    <tr>\n",
       "      <th>3</th>\n",
       "      <td>crew</td>\n",
       "      <td>suffer</td>\n",
       "      <td>embarrassment</td>\n",
       "    </tr>\n",
       "    <tr>\n",
       "      <th>4</th>\n",
       "      <td>star</td>\n",
       "      <td>visit</td>\n",
       "      <td>room</td>\n",
       "    </tr>\n",
       "  </tbody>\n",
       "</table>\n",
       "</div>"
      ],
      "text/plain": [
       "       sbj       verb           dobj\n",
       "0    child  terrorise       resident\n",
       "1  citizen   describe     birthplace\n",
       "2      fan       wear          shirt\n",
       "3     crew     suffer  embarrassment\n",
       "4     star      visit           room"
      ]
     },
     "execution_count": 7,
     "metadata": {},
     "output_type": "execute_result"
    }
   ],
   "source": [
    "triples_df = df = pd.concat(dfs)\n",
    "triples_df.head()"
   ]
  },
  {
   "cell_type": "code",
   "execution_count": 62,
   "metadata": {},
   "outputs": [
    {
     "name": "stdout",
     "output_type": "stream",
     "text": [
      "Number of original tuples: 8,025,271\n"
     ]
    }
   ],
   "source": [
    "print(\"Number of original tuples: {0:,d}\".format(len(triples_df)))"
   ]
  },
  {
   "cell_type": "markdown",
   "metadata": {},
   "source": [
    "\"For the multi-way model, we select the 2K most frequent verbs, together with the 10K most frequent subjects and the 10K most frequent objects (that appear within a transitive frame).\" (van de Cruys, 2014)"
   ]
  },
  {
   "cell_type": "code",
   "execution_count": 45,
   "metadata": {},
   "outputs": [],
   "source": [
    "def extract_most_common_values(df, col, n):\n",
    "    return pd.DataFrame(df[col].value_counts().iloc[:n].index, columns=[col])"
   ]
  },
  {
   "cell_type": "code",
   "execution_count": 46,
   "metadata": {},
   "outputs": [],
   "source": [
    "mc_verbs = extract_most_common_values(triples_df, 'verb', 2000)\n",
    "mc_sbjs = extract_most_common_values(triples_df, 'sbj', 10000)\n",
    "mc_dobjs = extract_most_common_values(triples_df, 'dobj', 10000)"
   ]
  },
  {
   "cell_type": "code",
   "execution_count": 48,
   "metadata": {},
   "outputs": [],
   "source": [
    "filtered_triples_df = triples_df\n",
    "filtered_triples_df = pd.merge(filtered_triples_df, mc_verbs, on='verb', how='inner')\n",
    "filtered_triples_df = pd.merge(filtered_triples_df, mc_sbjs, on='sbj', how='inner')\n",
    "filtered_triples_df = pd.merge(filtered_triples_df, mc_dobjs, on='dobj', how='inner')"
   ]
  },
  {
   "cell_type": "code",
   "execution_count": 63,
   "metadata": {},
   "outputs": [
    {
     "name": "stdout",
     "output_type": "stream",
     "text": [
      "Number of tuple instances after filtering: 7,299,599\n"
     ]
    }
   ],
   "source": [
    "print(\"Number of tuple instances after filtering: {0:,d}\".format(len(filtered_triples_df)))"
   ]
  },
  {
   "cell_type": "code",
   "execution_count": 64,
   "metadata": {},
   "outputs": [
    {
     "name": "stdout",
     "output_type": "stream",
     "text": [
      "Number of tuple types after filtering: 4,261,954\n"
     ]
    }
   ],
   "source": [
    "print(\"Number of tuple types after filtering: {0:,d}\".format(len(filtered_triples_df.drop_duplicates())))"
   ]
  },
  {
   "cell_type": "markdown",
   "metadata": {},
   "source": [
    "Somehow my data has much more tuples and types than van de Cruys (2014)'s: \"For the three-way model, our corpus consists of about 5,5M tuple instances (750K types)\""
   ]
  },
  {
   "cell_type": "markdown",
   "metadata": {},
   "source": [
    "# Writing results"
   ]
  },
  {
   "cell_type": "code",
   "execution_count": 52,
   "metadata": {},
   "outputs": [],
   "source": [
    "filtered_triples_df.to_csv('../output/ukwac-triples-filtered.tsv.gz', header=True, index=False, \n",
    "                           sep='\\t', compression='gzip')"
   ]
  }
 ],
 "metadata": {
  "kernelspec": {
   "display_name": "Python 3",
   "language": "python",
   "name": "python3"
  },
  "language_info": {
   "codemirror_mode": {
    "name": "ipython",
    "version": 3
   },
   "file_extension": ".py",
   "mimetype": "text/x-python",
   "name": "python",
   "nbconvert_exporter": "python",
   "pygments_lexer": "ipython3",
   "version": "3.6.2"
  }
 },
 "nbformat": 4,
 "nbformat_minor": 2
}
