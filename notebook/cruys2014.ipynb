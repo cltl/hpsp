{
 "cells": [
  {
   "cell_type": "code",
   "execution_count": 1,
   "metadata": {},
   "outputs": [],
   "source": [
    "import os\n",
    "if os.getcwd().endswith('/notebook'):\n",
    "    os.chdir('..')"
   ]
  },
  {
   "cell_type": "code",
   "execution_count": 2,
   "metadata": {},
   "outputs": [
    {
     "name": "stderr",
     "output_type": "stream",
     "text": [
      "/usr/local/Cellar/python3/3.6.2/Frameworks/Python.framework/Versions/3.6/lib/python3.6/site-packages/h5py/__init__.py:36: FutureWarning: Conversion of the second argument of issubdtype from `float` to `np.floating` is deprecated. In future, it will be treated as `np.float64 == np.dtype(float).type`.\n",
      "  from ._conv import register_converters as _register_converters\n"
     ]
    }
   ],
   "source": [
    "import tensorflow as tf\n",
    "import numpy as np\n",
    "import pandas as pd\n",
    "%matplotlib inline\n",
    "import matplotlib.pyplot as plt\n",
    "from model import DynamicDataset, normal_func, Cruys2014\n",
    "from evaluation import compute_frequency_band_mapping\n",
    "import seaborn as sns"
   ]
  },
  {
   "cell_type": "code",
   "execution_count": 3,
   "metadata": {},
   "outputs": [],
   "source": [
    "cruys_tanh = Cruys2014()\n",
    "cruys_normal = Cruys2014(activation_func=normal_func)"
   ]
  },
  {
   "cell_type": "code",
   "execution_count": 4,
   "metadata": {},
   "outputs": [
    {
     "name": "stdout",
     "output_type": "stream",
     "text": [
      "=== Single model ===\n",
      "_________________________________________________________________\n",
      "Layer (type)                 Output Shape              Param #   \n",
      "=================================================================\n",
      "input_5 (InputLayer)         (None, 3)                 0         \n",
      "_________________________________________________________________\n",
      "embedding_2 (Embedding)      (None, 3, 50)             650000    \n",
      "_________________________________________________________________\n",
      "flatten_2 (Flatten)          (None, 150)               0         \n",
      "_________________________________________________________________\n",
      "dense_3 (Dense)              (None, 100)               15100     \n",
      "_________________________________________________________________\n",
      "dense_4 (Dense)              (None, 1)                 100       \n",
      "=================================================================\n",
      "Total params: 665,200\n",
      "Trainable params: 665,200\n",
      "Non-trainable params: 0\n",
      "_________________________________________________________________\n",
      "=== Contrastive model ===\n",
      "__________________________________________________________________________________________________\n",
      "Layer (type)                    Output Shape         Param #     Connected to                     \n",
      "==================================================================================================\n",
      "input_5 (InputLayer)            (None, 3)            0                                            \n",
      "__________________________________________________________________________________________________\n",
      "input_6 (InputLayer)            (None, 3)            0                                            \n",
      "__________________________________________________________________________________________________\n",
      "input_7 (InputLayer)            (None, 3)            0                                            \n",
      "__________________________________________________________________________________________________\n",
      "input_8 (InputLayer)            (None, 3)            0                                            \n",
      "__________________________________________________________________________________________________\n",
      "embedding_2 (Embedding)         (None, 3, 50)        650000      input_5[0][0]                    \n",
      "                                                                 input_6[0][0]                    \n",
      "                                                                 input_7[0][0]                    \n",
      "                                                                 input_8[0][0]                    \n",
      "__________________________________________________________________________________________________\n",
      "flatten_2 (Flatten)             (None, 150)          0           embedding_2[0][0]                \n",
      "                                                                 embedding_2[1][0]                \n",
      "                                                                 embedding_2[2][0]                \n",
      "                                                                 embedding_2[3][0]                \n",
      "__________________________________________________________________________________________________\n",
      "dense_3 (Dense)                 (None, 100)          15100       flatten_2[0][0]                  \n",
      "                                                                 flatten_2[1][0]                  \n",
      "                                                                 flatten_2[2][0]                  \n",
      "                                                                 flatten_2[3][0]                  \n",
      "__________________________________________________________________________________________________\n",
      "dense_4 (Dense)                 (None, 1)            100         dense_3[0][0]                    \n",
      "                                                                 dense_3[1][0]                    \n",
      "                                                                 dense_3[2][0]                    \n",
      "                                                                 dense_3[3][0]                    \n",
      "__________________________________________________________________________________________________\n",
      "concatenate_2 (Concatenate)     (None, 4)            0           dense_4[0][0]                    \n",
      "                                                                 dense_4[1][0]                    \n",
      "                                                                 dense_4[2][0]                    \n",
      "                                                                 dense_4[3][0]                    \n",
      "==================================================================================================\n",
      "Total params: 665,200\n",
      "Trainable params: 665,200\n",
      "Non-trainable params: 0\n",
      "__________________________________________________________________________________________________\n"
     ]
    }
   ],
   "source": [
    "cruys_normal.summary()"
   ]
  },
  {
   "cell_type": "code",
   "execution_count": 5,
   "metadata": {},
   "outputs": [],
   "source": [
    "train_ds = np.load('output/ukwac-train.npy')\n",
    "dev_ds = np.load('output/ukwac-dev.npy')"
   ]
  },
  {
   "cell_type": "code",
   "execution_count": 6,
   "metadata": {},
   "outputs": [],
   "source": [
    "train_ds_dynamic = DynamicDataset(train_ds)\n",
    "dev_ds_dynamic = DynamicDataset(dev_ds)\n",
    "\n",
    "def train_epoch(model):\n",
    "    log = model.fit(*train_ds_dynamic.generate(), \n",
    "                         validation_data=dev_ds_dynamic.generate(),\n",
    "                         batch_size=1000, epochs=1, verbose=1)\n",
    "    return log.history['loss'][0], log.history['val_loss'][0]"
   ]
  },
  {
   "cell_type": "code",
   "execution_count": 7,
   "metadata": {
    "scrolled": true
   },
   "outputs": [
    {
     "name": "stdout",
     "output_type": "stream",
     "text": [
      "Train on 6569639 samples, validate on 729960 samples\n",
      "Epoch 1/1\n",
      "6569639/6569639 [==============================]6569639/6569639 [==============================] - 130s 20us/step - loss: 1.8316 - contrastive_accuracy: 0.5126 - val_loss: 1.4207 - val_contrastive_accuracy: 0.6060\n",
      "\n",
      "Train on 6569639 samples, validate on 729960 samples\n",
      "Epoch 1/1\n",
      "6569639/6569639 [==============================]6569639/6569639 [==============================] - 137s 21us/step - loss: 1.3027 - contrastive_accuracy: 0.6338 - val_loss: 1.2351 - val_contrastive_accuracy: 0.6503\n",
      "\n",
      "Train on 6569639 samples, validate on 729960 samples\n",
      "Epoch 1/1\n",
      "6569639/6569639 [==============================]6569639/6569639 [==============================] - 138s 21us/step - loss: 1.1830 - contrastive_accuracy: 0.6624 - val_loss: 1.1651 - val_contrastive_accuracy: 0.6666\n",
      "\n",
      "Train on 6569639 samples, validate on 729960 samples\n",
      "Epoch 1/1\n",
      "6569639/6569639 [==============================]6569639/6569639 [==============================] - 140s 21us/step - loss: 1.1255 - contrastive_accuracy: 0.6759 - val_loss: 1.1374 - val_contrastive_accuracy: 0.6740\n",
      "\n",
      "Train on 6569639 samples, validate on 729960 samples\n",
      "Epoch 1/1\n",
      "6569639/6569639 [==============================]6569639/6569639 [==============================] - 139s 21us/step - loss: 1.0930 - contrastive_accuracy: 0.6840 - val_loss: 1.1012 - val_contrastive_accuracy: 0.6831\n",
      "\n",
      "Train on 6569639 samples, validate on 729960 samples\n",
      "Epoch 1/1\n",
      "6569639/6569639 [==============================]6569639/6569639 [==============================] - 138s 21us/step - loss: 1.0693 - contrastive_accuracy: 0.6898 - val_loss: 1.0800 - val_contrastive_accuracy: 0.6872\n",
      "\n",
      "Train on 6569639 samples, validate on 729960 samples\n",
      "Epoch 1/1\n",
      "6569639/6569639 [==============================]6569639/6569639 [==============================] - 139s 21us/step - loss: 1.0533 - contrastive_accuracy: 0.6935 - val_loss: 1.0778 - val_contrastive_accuracy: 0.6890\n",
      "\n",
      "Train on 6569639 samples, validate on 729960 samples\n",
      "Epoch 1/1\n",
      "6569639/6569639 [==============================]6569639/6569639 [==============================] - 138s 21us/step - loss: 1.0403 - contrastive_accuracy: 0.6966 - val_loss: 1.0586 - val_contrastive_accuracy: 0.6934\n",
      "\n",
      "Train on 6569639 samples, validate on 729960 samples\n",
      "Epoch 1/1\n",
      "6569639/6569639 [==============================]6569639/6569639 [==============================] - 105s 16us/step - loss: 1.0319 - contrastive_accuracy: 0.6986 - val_loss: 1.0569 - val_contrastive_accuracy: 0.6938\n",
      "\n",
      "Train on 6569639 samples, validate on 729960 samples\n",
      "Epoch 1/1\n",
      "6569639/6569639 [==============================]6569639/6569639 [==============================] - 101s 15us/step - loss: 1.0234 - contrastive_accuracy: 0.7008 - val_loss: 1.0465 - val_contrastive_accuracy: 0.6962\n",
      "\n",
      "CPU times: user 57min 42s, sys: 4min 57s, total: 1h 2min 39s\n",
      "Wall time: 24min 45s\n"
     ]
    }
   ],
   "source": [
    "%%time\n",
    "# \"we use mini-batch L-BFGS (Liu and Nocedal, 1989) with 1000 pairs of good and corrupt tuples \n",
    "# per batch for training, and train for 10 epochs\" (van der Cruys, 2014)\n",
    "# --> tf.keras doesn't have an implementation of L-BFGS and we couldn't get good results with\n",
    "# 10 epochs of training so we use a different settings. However, I can't imagine that it makes\n",
    "# so much a difference.\n",
    "log = [train_epoch(cruys_tanh) for _ in range(10)]"
   ]
  },
  {
   "cell_type": "code",
   "execution_count": 8,
   "metadata": {
    "scrolled": true
   },
   "outputs": [
    {
     "name": "stdout",
     "output_type": "stream",
     "text": [
      "Train on 6569639 samples, validate on 729960 samples\n",
      "Epoch 1/1\n",
      "6569639/6569639 [==============================]6569639/6569639 [==============================] - 130s 20us/step - loss: 1.7937 - contrastive_accuracy: 0.5213 - val_loss: 1.3927 - val_contrastive_accuracy: 0.6125\n",
      "\n",
      "Train on 6569639 samples, validate on 729960 samples\n",
      "Epoch 1/1\n",
      "6569639/6569639 [==============================]6569639/6569639 [==============================] - 130s 20us/step - loss: 1.2797 - contrastive_accuracy: 0.6393 - val_loss: 1.2201 - val_contrastive_accuracy: 0.6540\n",
      "\n",
      "Train on 6569639 samples, validate on 729960 samples\n",
      "Epoch 1/1\n",
      "6569639/6569639 [==============================]6569639/6569639 [==============================] - 130s 20us/step - loss: 1.1687 - contrastive_accuracy: 0.6657 - val_loss: 1.1527 - val_contrastive_accuracy: 0.6699\n",
      "\n",
      "Train on 6569639 samples, validate on 729960 samples\n",
      "Epoch 1/1\n",
      "6569639/6569639 [==============================]6569639/6569639 [==============================] - 132s 20us/step - loss: 1.1166 - contrastive_accuracy: 0.6783 - val_loss: 1.1169 - val_contrastive_accuracy: 0.6784\n",
      "\n",
      "Train on 6569639 samples, validate on 729960 samples\n",
      "Epoch 1/1\n",
      "6569639/6569639 [==============================]6569639/6569639 [==============================] - 132s 20us/step - loss: 1.0839 - contrastive_accuracy: 0.6863 - val_loss: 1.0966 - val_contrastive_accuracy: 0.6835\n",
      "\n",
      "Train on 6569639 samples, validate on 729960 samples\n",
      "Epoch 1/1\n",
      "6569639/6569639 [==============================]6569639/6569639 [==============================] - 133s 20us/step - loss: 1.0630 - contrastive_accuracy: 0.6912 - val_loss: 1.0800 - val_contrastive_accuracy: 0.6880\n",
      "\n",
      "Train on 6569639 samples, validate on 729960 samples\n",
      "Epoch 1/1\n",
      "6569639/6569639 [==============================]6569639/6569639 [==============================] - 135s 21us/step - loss: 1.0468 - contrastive_accuracy: 0.6954 - val_loss: 1.0647 - val_contrastive_accuracy: 0.6922\n",
      "\n",
      "Train on 6569639 samples, validate on 729960 samples\n",
      "Epoch 1/1\n",
      "6569639/6569639 [==============================]6569639/6569639 [==============================] - 139s 21us/step - loss: 1.0356 - contrastive_accuracy: 0.6977 - val_loss: 1.0613 - val_contrastive_accuracy: 0.6921\n",
      "\n",
      "Train on 6569639 samples, validate on 729960 samples\n",
      "Epoch 1/1\n",
      "6569639/6569639 [==============================]6569639/6569639 [==============================] - 138s 21us/step - loss: 1.0264 - contrastive_accuracy: 0.7001 - val_loss: 1.0478 - val_contrastive_accuracy: 0.6956\n",
      "\n",
      "Train on 6569639 samples, validate on 729960 samples\n",
      "Epoch 1/1\n",
      "6569639/6569639 [==============================]6569639/6569639 [==============================] - 139s 21us/step - loss: 1.0183 - contrastive_accuracy: 0.7019 - val_loss: 1.0425 - val_contrastive_accuracy: 0.6965\n",
      "\n",
      "CPU times: user 54min 8s, sys: 13min 53s, total: 1h 8min 2s\n",
      "Wall time: 25min 14s\n"
     ]
    }
   ],
   "source": [
    "%%time\n",
    "log = [train_epoch(cruys_normal) for _ in range(10)]"
   ]
  },
  {
   "cell_type": "code",
   "execution_count": 9,
   "metadata": {},
   "outputs": [
    {
     "data": {
      "image/png": "[encoded data removed]",
      "text/plain": [
       "<Figure size 432x288 with 1 Axes>"
      ]
     },
     "metadata": {},
     "output_type": "display_data"
    }
   ],
   "source": [
    "log_df = pd.DataFrame(log, columns=['train_loss', 'dev_loss'])\n",
    "plt.plot(log_df.train_loss)\n",
    "_ = plt.plot(log_df.dev_loss)"
   ]
  },
  {
   "cell_type": "code",
   "execution_count": 11,
   "metadata": {},
   "outputs": [],
   "source": [
    "tf.keras.models.save_model(cruys_tanh.single_model, 'output/cruys2014-tanh-ukwac.hd5')\n",
    "tf.keras.models.save_model(cruys_normal.single_model, 'output/cruys2014-normal-ukwac.hd5')"
   ]
  },
  {
   "cell_type": "markdown",
   "metadata": {},
   "source": [
    "# Measure performance"
   ]
  },
  {
   "cell_type": "code",
   "execution_count": 12,
   "metadata": {},
   "outputs": [],
   "source": [
    "class Evaluator(object):\n",
    "\n",
    "    def __init__(self, npy_path):\n",
    "        self.test_ds = np.load(npy_path)\n",
    "        self.pos_examples = self.test_ds[:,[0,1,2]]\n",
    "        self.neg_examples = self.test_ds[:,[0,3,4]]\n",
    "\n",
    "    def __call__(self, model):\n",
    "        pos_scores = model.predict(self.pos_examples)\n",
    "        neg_scores = model.predict(self.neg_examples)\n",
    "        return np.average(pos_scores > neg_scores)"
   ]
  },
  {
   "cell_type": "code",
   "execution_count": 13,
   "metadata": {},
   "outputs": [],
   "source": [
    "def evaluate(model):\n",
    "    results = [\n",
    "        {'dataset': 'ontonotes', 'freq_correction': True,\n",
    "         'score': Evaluator('output/ontonote-svo-same-freq.npy')(model)},\n",
    "        {'dataset': 'ontonotes', 'freq_correction': False,\n",
    "         'score': Evaluator('output/ontonote-svo-unigram-freq.npy')(model)},\n",
    "        {'dataset': 'ukwac', 'freq_correction': True,\n",
    "         'score': Evaluator('output/ukwac-dev-same-freq.npy')(model)},\n",
    "        {'dataset': 'ukwac', 'freq_correction': False,\n",
    "         'score': Evaluator('output/ukwac-dev-unigram-freq.npy')(model)}]\n",
    "    return pd.DataFrame(results)"
   ]
  },
  {
   "cell_type": "code",
   "execution_count": 14,
   "metadata": {},
   "outputs": [
    {
     "data": {
      "text/html": [
       "<div>\n",
       "<style scoped>\n",
       "    .dataframe tbody tr th:only-of-type {\n",
       "        vertical-align: middle;\n",
       "    }\n",
       "\n",
       "    .dataframe tbody tr th {\n",
       "        vertical-align: top;\n",
       "    }\n",
       "\n",
       "    .dataframe thead th {\n",
       "        text-align: right;\n",
       "    }\n",
       "</style>\n",
       "<table border=\"1\" class=\"dataframe\">\n",
       "  <thead>\n",
       "    <tr style=\"text-align: right;\">\n",
       "      <th></th>\n",
       "      <th>dataset</th>\n",
       "      <th>freq_correction</th>\n",
       "      <th>score</th>\n",
       "    </tr>\n",
       "  </thead>\n",
       "  <tbody>\n",
       "    <tr>\n",
       "      <th>0</th>\n",
       "      <td>ontonotes</td>\n",
       "      <td>True</td>\n",
       "      <td>0.576778</td>\n",
       "    </tr>\n",
       "    <tr>\n",
       "      <th>1</th>\n",
       "      <td>ontonotes</td>\n",
       "      <td>False</td>\n",
       "      <td>0.575145</td>\n",
       "    </tr>\n",
       "    <tr>\n",
       "      <th>2</th>\n",
       "      <td>ukwac</td>\n",
       "      <td>True</td>\n",
       "      <td>0.593558</td>\n",
       "    </tr>\n",
       "    <tr>\n",
       "      <th>3</th>\n",
       "      <td>ukwac</td>\n",
       "      <td>False</td>\n",
       "      <td>0.593492</td>\n",
       "    </tr>\n",
       "  </tbody>\n",
       "</table>\n",
       "</div>"
      ],
      "text/plain": [
       "     dataset  freq_correction     score\n",
       "0  ontonotes             True  0.576778\n",
       "1  ontonotes            False  0.575145\n",
       "2      ukwac             True  0.593558\n",
       "3      ukwac            False  0.593492"
      ]
     },
     "execution_count": 14,
     "metadata": {},
     "output_type": "execute_result"
    }
   ],
   "source": [
    "evaluate(cruys_normal)"
   ]
  },
  {
   "cell_type": "code",
   "execution_count": 15,
   "metadata": {},
   "outputs": [
    {
     "data": {
      "text/html": [
       "<div>\n",
       "<style scoped>\n",
       "    .dataframe tbody tr th:only-of-type {\n",
       "        vertical-align: middle;\n",
       "    }\n",
       "\n",
       "    .dataframe tbody tr th {\n",
       "        vertical-align: top;\n",
       "    }\n",
       "\n",
       "    .dataframe thead th {\n",
       "        text-align: right;\n",
       "    }\n",
       "</style>\n",
       "<table border=\"1\" class=\"dataframe\">\n",
       "  <thead>\n",
       "    <tr style=\"text-align: right;\">\n",
       "      <th></th>\n",
       "      <th>dataset</th>\n",
       "      <th>freq_correction</th>\n",
       "      <th>score</th>\n",
       "    </tr>\n",
       "  </thead>\n",
       "  <tbody>\n",
       "    <tr>\n",
       "      <th>0</th>\n",
       "      <td>ontonotes</td>\n",
       "      <td>True</td>\n",
       "      <td>0.579635</td>\n",
       "    </tr>\n",
       "    <tr>\n",
       "      <th>1</th>\n",
       "      <td>ontonotes</td>\n",
       "      <td>False</td>\n",
       "      <td>0.570401</td>\n",
       "    </tr>\n",
       "    <tr>\n",
       "      <th>2</th>\n",
       "      <td>ukwac</td>\n",
       "      <td>True</td>\n",
       "      <td>0.607313</td>\n",
       "    </tr>\n",
       "    <tr>\n",
       "      <th>3</th>\n",
       "      <td>ukwac</td>\n",
       "      <td>False</td>\n",
       "      <td>0.598791</td>\n",
       "    </tr>\n",
       "  </tbody>\n",
       "</table>\n",
       "</div>"
      ],
      "text/plain": [
       "     dataset  freq_correction     score\n",
       "0  ontonotes             True  0.579635\n",
       "1  ontonotes            False  0.570401\n",
       "2      ukwac             True  0.607313\n",
       "3      ukwac            False  0.598791"
      ]
     },
     "execution_count": 15,
     "metadata": {},
     "output_type": "execute_result"
    }
   ],
   "source": [
    "evaluate(cruys_tanh)"
   ]
  },
  {
   "cell_type": "markdown",
   "metadata": {},
   "source": [
    "# Analyze accuracy vs frequency"
   ]
  },
  {
   "cell_type": "code",
   "execution_count": 16,
   "metadata": {},
   "outputs": [],
   "source": [
    "import math\n",
    "\n",
    "def compute_frequency_band_id_mapping(series):\n",
    "    counts = series.value_counts()\n",
    "    n_tenth = int(math.ceil(len(counts)/10))\n",
    "    bands = [counts.iloc[i*n_tenth:(i+1)*n_tenth].index.values for i in range(10)]\n",
    "    assert len(counts) == sum(len(band) for band in bands)\n",
    "    return {val:band_id for band_id, band in enumerate(bands) for val in band}\n",
    "\n",
    "sbj2band = compute_frequency_band_id_mapping(pd.Series(train_ds[:,0]))"
   ]
  },
  {
   "cell_type": "code",
   "execution_count": 17,
   "metadata": {},
   "outputs": [],
   "source": [
    "ev = Evaluator('output/ukwac-dev-same-freq.npy')"
   ]
  },
  {
   "cell_type": "code",
   "execution_count": 18,
   "metadata": {},
   "outputs": [],
   "source": [
    "pos_scores = cruys_normal.predict(ev.pos_examples)\n",
    "neg_scores = cruys_normal.predict(ev.neg_examples)\n",
    "correct = (pos_scores > neg_scores)"
   ]
  },
  {
   "cell_type": "code",
   "execution_count": 19,
   "metadata": {},
   "outputs": [],
   "source": [
    "sbj_bands = [sbj2band.get(sbj_id, -1) for sbj_id in ev.pos_examples[:,0]]"
   ]
  },
  {
   "cell_type": "code",
   "execution_count": 20,
   "metadata": {},
   "outputs": [
    {
     "data": {
      "text/html": [
       "<div>\n",
       "<style scoped>\n",
       "    .dataframe tbody tr th:only-of-type {\n",
       "        vertical-align: middle;\n",
       "    }\n",
       "\n",
       "    .dataframe tbody tr th {\n",
       "        vertical-align: top;\n",
       "    }\n",
       "\n",
       "    .dataframe thead th {\n",
       "        text-align: right;\n",
       "    }\n",
       "</style>\n",
       "<table border=\"1\" class=\"dataframe\">\n",
       "  <thead>\n",
       "    <tr style=\"text-align: right;\">\n",
       "      <th></th>\n",
       "      <th>pos_score</th>\n",
       "      <th>neg_score</th>\n",
       "      <th>correct</th>\n",
       "      <th>sbj_band</th>\n",
       "    </tr>\n",
       "  </thead>\n",
       "  <tbody>\n",
       "    <tr>\n",
       "      <th>191637</th>\n",
       "      <td>-6.847685</td>\n",
       "      <td>-4.652723</td>\n",
       "      <td>0.0</td>\n",
       "      <td>3</td>\n",
       "    </tr>\n",
       "    <tr>\n",
       "      <th>3488</th>\n",
       "      <td>-6.836413</td>\n",
       "      <td>-6.185731</td>\n",
       "      <td>0.0</td>\n",
       "      <td>-1</td>\n",
       "    </tr>\n",
       "    <tr>\n",
       "      <th>128606</th>\n",
       "      <td>-5.521473</td>\n",
       "      <td>-4.079194</td>\n",
       "      <td>0.0</td>\n",
       "      <td>0</td>\n",
       "    </tr>\n",
       "  </tbody>\n",
       "</table>\n",
       "</div>"
      ],
      "text/plain": [
       "        pos_score  neg_score  correct  sbj_band\n",
       "191637  -6.847685  -4.652723      0.0         3\n",
       "3488    -6.836413  -6.185731      0.0        -1\n",
       "128606  -5.521473  -4.079194      0.0         0"
      ]
     },
     "execution_count": 20,
     "metadata": {},
     "output_type": "execute_result"
    }
   ],
   "source": [
    "detail_results = pd.DataFrame({'pos_score': pos_scores.flatten(), \n",
    "                               'neg_score': neg_scores.flatten(), \n",
    "                               'correct': correct.flatten().astype(float), \n",
    "                               'sbj_band': sbj_bands})\n",
    "detail_results.sample(3)"
   ]
  },
  {
   "cell_type": "code",
   "execution_count": 21,
   "metadata": {},
   "outputs": [],
   "source": [
    "pos_scores2 = cruys_tanh.predict(ev.pos_examples)\n",
    "neg_scores2 = cruys_tanh.predict(ev.neg_examples)\n",
    "correct2 = (pos_scores2 > neg_scores2)"
   ]
  },
  {
   "cell_type": "code",
   "execution_count": 22,
   "metadata": {},
   "outputs": [
    {
     "data": {
      "text/html": [
       "<div>\n",
       "<style scoped>\n",
       "    .dataframe tbody tr th:only-of-type {\n",
       "        vertical-align: middle;\n",
       "    }\n",
       "\n",
       "    .dataframe tbody tr th {\n",
       "        vertical-align: top;\n",
       "    }\n",
       "\n",
       "    .dataframe thead th {\n",
       "        text-align: right;\n",
       "    }\n",
       "</style>\n",
       "<table border=\"1\" class=\"dataframe\">\n",
       "  <thead>\n",
       "    <tr style=\"text-align: right;\">\n",
       "      <th></th>\n",
       "      <th>pos_score</th>\n",
       "      <th>neg_score</th>\n",
       "      <th>correct</th>\n",
       "      <th>sbj_band</th>\n",
       "    </tr>\n",
       "  </thead>\n",
       "  <tbody>\n",
       "    <tr>\n",
       "      <th>561105</th>\n",
       "      <td>-19.472124</td>\n",
       "      <td>-19.498028</td>\n",
       "      <td>1.0</td>\n",
       "      <td>-1</td>\n",
       "    </tr>\n",
       "    <tr>\n",
       "      <th>325337</th>\n",
       "      <td>-18.341742</td>\n",
       "      <td>-16.363174</td>\n",
       "      <td>0.0</td>\n",
       "      <td>-1</td>\n",
       "    </tr>\n",
       "    <tr>\n",
       "      <th>330149</th>\n",
       "      <td>-18.499228</td>\n",
       "      <td>-18.632544</td>\n",
       "      <td>1.0</td>\n",
       "      <td>9</td>\n",
       "    </tr>\n",
       "  </tbody>\n",
       "</table>\n",
       "</div>"
      ],
      "text/plain": [
       "        pos_score  neg_score  correct  sbj_band\n",
       "561105 -19.472124 -19.498028      1.0        -1\n",
       "325337 -18.341742 -16.363174      0.0        -1\n",
       "330149 -18.499228 -18.632544      1.0         9"
      ]
     },
     "execution_count": 22,
     "metadata": {},
     "output_type": "execute_result"
    }
   ],
   "source": [
    "detail_results2 = pd.DataFrame({'pos_score': pos_scores2.flatten(), \n",
    "                               'neg_score': neg_scores2.flatten(), \n",
    "                               'correct': correct2.flatten().astype(float), \n",
    "                               'sbj_band': sbj_bands})\n",
    "detail_results2.sample(3)"
   ]
  },
  {
   "cell_type": "code",
   "execution_count": 23,
   "metadata": {},
   "outputs": [
    {
     "name": "stderr",
     "output_type": "stream",
     "text": [
      "/usr/local/Cellar/python3/3.6.2/Frameworks/Python.framework/Versions/3.6/lib/python3.6/site-packages/scipy/stats/stats.py:1713: FutureWarning: Using a non-tuple sequence for multidimensional indexing is deprecated; use `arr[tuple(seq)]` instead of `arr[seq]`. In the future this will be interpreted as an array index, `arr[np.array(seq)]`, which will result either in an error or a different result.\n",
      "  return np.add.reduce(sorted[indexer] * weights, axis=axis) / sumval\n"
     ]
    },
    {
     "data": {
      "image/png": "[encoded data removed]",
      "text/plain": [
       "<Figure size 432x288 with 1 Axes>"
      ]
     },
     "metadata": {},
     "output_type": "display_data"
    }
   ],
   "source": [
    "_ = sns.barplot(x='sbj_band', y='correct', data=detail_results)"
   ]
  },
  {
   "cell_type": "code",
   "execution_count": 24,
   "metadata": {},
   "outputs": [
    {
     "name": "stderr",
     "output_type": "stream",
     "text": [
      "/usr/local/Cellar/python3/3.6.2/Frameworks/Python.framework/Versions/3.6/lib/python3.6/site-packages/scipy/stats/stats.py:1713: FutureWarning: Using a non-tuple sequence for multidimensional indexing is deprecated; use `arr[tuple(seq)]` instead of `arr[seq]`. In the future this will be interpreted as an array index, `arr[np.array(seq)]`, which will result either in an error or a different result.\n",
      "  return np.add.reduce(sorted[indexer] * weights, axis=axis) / sumval\n"
     ]
    },
    {
     "data": {
      "image/png": "[encoded data removed]",
      "text/plain": [
       "<Figure size 432x288 with 1 Axes>"
      ]
     },
     "metadata": {},
     "output_type": "display_data"
    }
   ],
   "source": [
    "_ = sns.barplot(x='sbj_band', y='correct', data=detail_results2)"
   ]
  },
  {
   "cell_type": "code",
   "execution_count": null,
   "metadata": {},
   "outputs": [],
   "source": []
  }
 ],
 "metadata": {
  "kernelspec": {
   "display_name": "Python 3",
   "language": "python",
   "name": "python3"
  },
  "language_info": {
   "codemirror_mode": {
    "name": "ipython",
    "version": 3
   },
   "file_extension": ".py",
   "mimetype": "text/x-python",
   "name": "python",
   "nbconvert_exporter": "python",
   "pygments_lexer": "ipython3",
   "version": "3.6.2"
  }
 },
 "nbformat": 4,
 "nbformat_minor": 2
}
