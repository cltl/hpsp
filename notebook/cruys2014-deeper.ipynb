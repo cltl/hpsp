{
 "cells": [
  {
   "cell_type": "code",
   "execution_count": 1,
   "metadata": {},
   "outputs": [],
   "source": [
    "import os\n",
    "if os.getcwd().endswith('/notebook'):\n",
    "    os.chdir('..')"
   ]
  },
  {
   "cell_type": "code",
   "execution_count": 2,
   "metadata": {},
   "outputs": [
    {
     "name": "stderr",
     "output_type": "stream",
     "text": [
      "/usr/local/Cellar/python3/3.6.2/Frameworks/Python.framework/Versions/3.6/lib/python3.6/site-packages/h5py/__init__.py:36: FutureWarning: Conversion of the second argument of issubdtype from `float` to `np.floating` is deprecated. In future, it will be treated as `np.float64 == np.dtype(float).type`.\n",
      "  from ._conv import register_converters as _register_converters\n"
     ]
    }
   ],
   "source": [
    "import tensorflow as tf\n",
    "import numpy as np\n",
    "import pandas as pd\n",
    "%matplotlib inline\n",
    "import matplotlib.pyplot as plt\n",
    "from model import DynamicDataset, normal_func, Cruys2014\n",
    "from evaluation import compute_frequency_band_mapping\n",
    "import seaborn as sns"
   ]
  },
  {
   "cell_type": "code",
   "execution_count": 4,
   "metadata": {},
   "outputs": [],
   "source": [
    "cruys_2hidden = Cruys2014(num_hidden_layers=2)\n",
    "cruys_3hidden = Cruys2014(num_hidden_layers=3)\n",
    "cruys_4hidden = Cruys2014(num_hidden_layers=4)"
   ]
  },
  {
   "cell_type": "code",
   "execution_count": 5,
   "metadata": {},
   "outputs": [
    {
     "name": "stdout",
     "output_type": "stream",
     "text": [
      "=== Single model ===\n",
      "_________________________________________________________________\n",
      "Layer (type)                 Output Shape              Param #   \n",
      "=================================================================\n",
      "input_9 (InputLayer)         (None, 3)                 0         \n",
      "_________________________________________________________________\n",
      "embedding_3 (Embedding)      (None, 3, 50)             650000    \n",
      "_________________________________________________________________\n",
      "flatten_3 (Flatten)          (None, 150)               0         \n",
      "_________________________________________________________________\n",
      "dense_8 (Dense)              (None, 100)               15100     \n",
      "_________________________________________________________________\n",
      "dense_9 (Dense)              (None, 100)               10100     \n",
      "_________________________________________________________________\n",
      "dense_10 (Dense)             (None, 100)               10100     \n",
      "_________________________________________________________________\n",
      "dense_11 (Dense)             (None, 100)               10100     \n",
      "_________________________________________________________________\n",
      "dense_12 (Dense)             (None, 1)                 100       \n",
      "=================================================================\n",
      "Total params: 695,500\n",
      "Trainable params: 695,500\n",
      "Non-trainable params: 0\n",
      "_________________________________________________________________\n",
      "=== Contrastive model ===\n",
      "__________________________________________________________________________________________________\n",
      "Layer (type)                    Output Shape         Param #     Connected to                     \n",
      "==================================================================================================\n",
      "input_9 (InputLayer)            (None, 3)            0                                            \n",
      "__________________________________________________________________________________________________\n",
      "input_10 (InputLayer)           (None, 3)            0                                            \n",
      "__________________________________________________________________________________________________\n",
      "input_11 (InputLayer)           (None, 3)            0                                            \n",
      "__________________________________________________________________________________________________\n",
      "input_12 (InputLayer)           (None, 3)            0                                            \n",
      "__________________________________________________________________________________________________\n",
      "embedding_3 (Embedding)         (None, 3, 50)        650000      input_9[0][0]                    \n",
      "                                                                 input_10[0][0]                   \n",
      "                                                                 input_11[0][0]                   \n",
      "                                                                 input_12[0][0]                   \n",
      "__________________________________________________________________________________________________\n",
      "flatten_3 (Flatten)             (None, 150)          0           embedding_3[0][0]                \n",
      "                                                                 embedding_3[1][0]                \n",
      "                                                                 embedding_3[2][0]                \n",
      "                                                                 embedding_3[3][0]                \n",
      "__________________________________________________________________________________________________\n",
      "dense_8 (Dense)                 (None, 100)          15100       flatten_3[0][0]                  \n",
      "                                                                 flatten_3[1][0]                  \n",
      "                                                                 flatten_3[2][0]                  \n",
      "                                                                 flatten_3[3][0]                  \n",
      "__________________________________________________________________________________________________\n",
      "dense_9 (Dense)                 (None, 100)          10100       dense_8[0][0]                    \n",
      "                                                                 dense_8[1][0]                    \n",
      "                                                                 dense_8[2][0]                    \n",
      "                                                                 dense_8[3][0]                    \n",
      "__________________________________________________________________________________________________\n",
      "dense_10 (Dense)                (None, 100)          10100       dense_9[0][0]                    \n",
      "                                                                 dense_9[1][0]                    \n",
      "                                                                 dense_9[2][0]                    \n",
      "                                                                 dense_9[3][0]                    \n",
      "__________________________________________________________________________________________________\n",
      "dense_11 (Dense)                (None, 100)          10100       dense_10[0][0]                   \n",
      "                                                                 dense_10[1][0]                   \n",
      "                                                                 dense_10[2][0]                   \n",
      "                                                                 dense_10[3][0]                   \n",
      "__________________________________________________________________________________________________\n",
      "dense_12 (Dense)                (None, 1)            100         dense_11[0][0]                   \n",
      "                                                                 dense_11[1][0]                   \n",
      "                                                                 dense_11[2][0]                   \n",
      "                                                                 dense_11[3][0]                   \n",
      "__________________________________________________________________________________________________\n",
      "concatenate_3 (Concatenate)     (None, 4)            0           dense_12[0][0]                   \n",
      "                                                                 dense_12[1][0]                   \n",
      "                                                                 dense_12[2][0]                   \n",
      "                                                                 dense_12[3][0]                   \n",
      "==================================================================================================\n",
      "Total params: 695,500\n",
      "Trainable params: 695,500\n",
      "Non-trainable params: 0\n",
      "__________________________________________________________________________________________________\n"
     ]
    }
   ],
   "source": [
    "cruys_4hidden.summary()"
   ]
  },
  {
   "cell_type": "code",
   "execution_count": 6,
   "metadata": {},
   "outputs": [],
   "source": [
    "train_ds = np.load('output/ukwac-train.npy')\n",
    "dev_ds = np.load('output/ukwac-dev.npy')"
   ]
  },
  {
   "cell_type": "code",
   "execution_count": 7,
   "metadata": {},
   "outputs": [],
   "source": [
    "train_ds_dynamic = DynamicDataset(train_ds)\n",
    "dev_ds_dynamic = DynamicDataset(dev_ds)\n",
    "\n",
    "def train_epoch(model):\n",
    "    log = model.fit(*train_ds_dynamic.generate(), \n",
    "                         validation_data=dev_ds_dynamic.generate(),\n",
    "                         batch_size=1000, epochs=1, verbose=1)\n",
    "    return log.history['loss'][0], log.history['val_loss'][0]"
   ]
  },
  {
   "cell_type": "code",
   "execution_count": null,
   "metadata": {
    "scrolled": true
   },
   "outputs": [
    {
     "name": "stdout",
     "output_type": "stream",
     "text": [
      "Train on 6569639 samples, validate on 729960 samples\n",
      "Epoch 1/1\n",
      "6569639/6569639 [==============================]6569639/6569639 [==============================] - 224s 34us/step - loss: 1.8430 - contrastive_accuracy: 0.5096 - val_loss: 1.4210 - val_contrastive_accuracy: 0.6055\n",
      "\n",
      "Train on 6569639 samples, validate on 729960 samples\n",
      "Epoch 1/1\n",
      " 358000/6569639 [>.............................] 358000/6569639 [>.............................] - ETA: 3:56 - loss: 1.3844 - contrastive_accuracy: 0.6139"
     ]
    }
   ],
   "source": [
    "%%time\n",
    "# \"we use mini-batch L-BFGS (Liu and Nocedal, 1989) with 1000 pairs of good and corrupt tuples \n",
    "# per batch for training, and train for 10 epochs\" (van der Cruys, 2014)\n",
    "# --> tf.keras doesn't have an implementation of L-BFGS and we couldn't get good results with\n",
    "# 10 epochs of training so we use a different settings. However, I can't imagine that it makes\n",
    "# so much a difference.\n",
    "log = [train_epoch(cruys_2hidden) for _ in range(10)]"
   ]
  },
  {
   "cell_type": "code",
   "execution_count": null,
   "metadata": {
    "scrolled": true
   },
   "outputs": [],
   "source": [
    "%%time\n",
    "log = [train_epoch(cruys_3hidden) for _ in range(10)]"
   ]
  },
  {
   "cell_type": "code",
   "execution_count": null,
   "metadata": {
    "scrolled": true
   },
   "outputs": [],
   "source": [
    "%%time\n",
    "log = [train_epoch(cruys_4hidden) for _ in range(10)]"
   ]
  },
  {
   "cell_type": "code",
   "execution_count": null,
   "metadata": {},
   "outputs": [],
   "source": []
  }
 ],
 "metadata": {
  "kernelspec": {
   "display_name": "Python 3",
   "language": "python",
   "name": "python3"
  },
  "language_info": {
   "codemirror_mode": {
    "name": "ipython",
    "version": 3
   },
   "file_extension": ".py",
   "mimetype": "text/x-python",
   "name": "python",
   "nbconvert_exporter": "python",
   "pygments_lexer": "ipython3",
   "version": "3.6.2"
  }
 },
 "nbformat": 4,
 "nbformat_minor": 2
}
