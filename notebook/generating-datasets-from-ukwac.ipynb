{
 "cells": [
  {
   "cell_type": "code",
   "execution_count": 33,
   "metadata": {},
   "outputs": [],
   "source": [
    "import os\n",
    "if os.getcwd().endswith('/notebook'):\n",
    "    os.chdir('..')"
   ]
  },
  {
   "cell_type": "code",
   "execution_count": 45,
   "metadata": {},
   "outputs": [],
   "source": [
    "import pandas as pd\n",
    "from joblib import dump\n",
    "import numpy as np\n",
    "from evaluation import create_test_set_from_positive_examples_same_freq, \\\n",
    "        create_test_set_from_positive_examples_unigram_freq"
   ]
  },
  {
   "cell_type": "code",
   "execution_count": 35,
   "metadata": {},
   "outputs": [
    {
     "data": {
      "text/html": [
       "<div>\n",
       "<style scoped>\n",
       "    .dataframe tbody tr th:only-of-type {\n",
       "        vertical-align: middle;\n",
       "    }\n",
       "\n",
       "    .dataframe tbody tr th {\n",
       "        vertical-align: top;\n",
       "    }\n",
       "\n",
       "    .dataframe thead th {\n",
       "        text-align: right;\n",
       "    }\n",
       "</style>\n",
       "<table border=\"1\" class=\"dataframe\">\n",
       "  <thead>\n",
       "    <tr style=\"text-align: right;\">\n",
       "      <th></th>\n",
       "      <th>sbj</th>\n",
       "      <th>verb</th>\n",
       "      <th>dobj</th>\n",
       "    </tr>\n",
       "  </thead>\n",
       "  <tbody>\n",
       "    <tr>\n",
       "      <th>6950493</th>\n",
       "      <td>town</td>\n",
       "      <td>have</td>\n",
       "      <td>bent</td>\n",
       "    </tr>\n",
       "    <tr>\n",
       "      <th>571478</th>\n",
       "      <td>driver</td>\n",
       "      <td>eliminate</td>\n",
       "      <td>need</td>\n",
       "    </tr>\n",
       "    <tr>\n",
       "      <th>5051387</th>\n",
       "      <td>devil</td>\n",
       "      <td>point</td>\n",
       "      <td>finger</td>\n",
       "    </tr>\n",
       "    <tr>\n",
       "      <th>5261930</th>\n",
       "      <td>festival</td>\n",
       "      <td>attract</td>\n",
       "      <td>entry</td>\n",
       "    </tr>\n",
       "    <tr>\n",
       "      <th>7133210</th>\n",
       "      <td>pupil</td>\n",
       "      <td>take</td>\n",
       "      <td>pseudonym</td>\n",
       "    </tr>\n",
       "  </tbody>\n",
       "</table>\n",
       "</div>"
      ],
      "text/plain": [
       "              sbj       verb       dobj\n",
       "6950493      town       have       bent\n",
       "571478     driver  eliminate       need\n",
       "5051387     devil      point     finger\n",
       "5261930  festival    attract      entry\n",
       "7133210     pupil       take  pseudonym"
      ]
     },
     "execution_count": 35,
     "metadata": {},
     "output_type": "execute_result"
    }
   ],
   "source": [
    "df = pd.read_csv('output/ukwac-triples-filtered.tsv.gz', delimiter='\\t', compression='gzip')\n",
    "df.sample(5)"
   ]
  },
  {
   "cell_type": "code",
   "execution_count": 36,
   "metadata": {},
   "outputs": [
    {
     "name": "stdout",
     "output_type": "stream",
     "text": [
      "7,299,599\n"
     ]
    }
   ],
   "source": [
    "print('{0:,d}'.format(len(df)))"
   ]
  },
  {
   "cell_type": "code",
   "execution_count": 37,
   "metadata": {},
   "outputs": [],
   "source": [
    "from sklearn.model_selection import train_test_split"
   ]
  },
  {
   "cell_type": "markdown",
   "metadata": {},
   "source": [
    "Randomly split the available tuples into training and testing. Following Cruys (2014), we will perform instance-based training and type-based testing. The duplicates in the training set gives the model a sense of typicality."
   ]
  },
  {
   "cell_type": "code",
   "execution_count": 38,
   "metadata": {},
   "outputs": [],
   "source": [
    "train_ds, dev_ds = train_test_split(df, test_size=0.1, random_state=285230)"
   ]
  },
  {
   "cell_type": "code",
   "execution_count": 40,
   "metadata": {},
   "outputs": [],
   "source": [
    "dev_ds_with_negs_same_freq = create_test_set_from_positive_examples_same_freq(dev_ds)"
   ]
  },
  {
   "cell_type": "code",
   "execution_count": 43,
   "metadata": {},
   "outputs": [
    {
     "data": {
      "text/html": [
       "<div>\n",
       "<style scoped>\n",
       "    .dataframe tbody tr th:only-of-type {\n",
       "        vertical-align: middle;\n",
       "    }\n",
       "\n",
       "    .dataframe tbody tr th {\n",
       "        vertical-align: top;\n",
       "    }\n",
       "\n",
       "    .dataframe thead th {\n",
       "        text-align: right;\n",
       "    }\n",
       "</style>\n",
       "<table border=\"1\" class=\"dataframe\">\n",
       "  <thead>\n",
       "    <tr style=\"text-align: right;\">\n",
       "      <th></th>\n",
       "      <th>verb</th>\n",
       "      <th>pos_sbj</th>\n",
       "      <th>pos_dobj</th>\n",
       "      <th>neg_sbj</th>\n",
       "      <th>neg_dobj</th>\n",
       "    </tr>\n",
       "  </thead>\n",
       "  <tbody>\n",
       "    <tr>\n",
       "      <th>35072</th>\n",
       "      <td>prevent</td>\n",
       "      <td>forest</td>\n",
       "      <td>flood</td>\n",
       "      <td>tale</td>\n",
       "      <td>estimation</td>\n",
       "    </tr>\n",
       "    <tr>\n",
       "      <th>63400</th>\n",
       "      <td>have</td>\n",
       "      <td>reader</td>\n",
       "      <td>impression</td>\n",
       "      <td>supply</td>\n",
       "      <td>secret</td>\n",
       "    </tr>\n",
       "    <tr>\n",
       "      <th>159950</th>\n",
       "      <td>see</td>\n",
       "      <td>advisor</td>\n",
       "      <td>client</td>\n",
       "      <td>sin</td>\n",
       "      <td>act</td>\n",
       "    </tr>\n",
       "    <tr>\n",
       "      <th>72243</th>\n",
       "      <td>cover</td>\n",
       "      <td>part</td>\n",
       "      <td>letter</td>\n",
       "      <td>failure</td>\n",
       "      <td>programme</td>\n",
       "    </tr>\n",
       "    <tr>\n",
       "      <th>296380</th>\n",
       "      <td>form</td>\n",
       "      <td>platform</td>\n",
       "      <td>part</td>\n",
       "      <td>department</td>\n",
       "      <td>distance</td>\n",
       "    </tr>\n",
       "  </tbody>\n",
       "</table>\n",
       "</div>"
      ],
      "text/plain": [
       "           verb   pos_sbj    pos_dobj     neg_sbj    neg_dobj\n",
       "35072   prevent    forest       flood        tale  estimation\n",
       "63400      have    reader  impression      supply      secret\n",
       "159950      see   advisor      client         sin         act\n",
       "72243     cover      part      letter     failure   programme\n",
       "296380     form  platform        part  department    distance"
      ]
     },
     "execution_count": 43,
     "metadata": {},
     "output_type": "execute_result"
    }
   ],
   "source": [
    "dev_ds_with_negs_same_freq.sample(5)"
   ]
  },
  {
   "cell_type": "code",
   "execution_count": 41,
   "metadata": {},
   "outputs": [],
   "source": [
    "dev_ds_with_negs_unigram_freq = create_test_set_from_positive_examples_unigram_freq(dev_ds)"
   ]
  },
  {
   "cell_type": "code",
   "execution_count": 44,
   "metadata": {},
   "outputs": [
    {
     "data": {
      "text/html": [
       "<div>\n",
       "<style scoped>\n",
       "    .dataframe tbody tr th:only-of-type {\n",
       "        vertical-align: middle;\n",
       "    }\n",
       "\n",
       "    .dataframe tbody tr th {\n",
       "        vertical-align: top;\n",
       "    }\n",
       "\n",
       "    .dataframe thead th {\n",
       "        text-align: right;\n",
       "    }\n",
       "</style>\n",
       "<table border=\"1\" class=\"dataframe\">\n",
       "  <thead>\n",
       "    <tr style=\"text-align: right;\">\n",
       "      <th></th>\n",
       "      <th>verb</th>\n",
       "      <th>pos_sbj</th>\n",
       "      <th>pos_dobj</th>\n",
       "      <th>neg_sbj</th>\n",
       "      <th>neg_dobj</th>\n",
       "    </tr>\n",
       "  </thead>\n",
       "  <tbody>\n",
       "    <tr>\n",
       "      <th>190871</th>\n",
       "      <td>increase</td>\n",
       "      <td>act</td>\n",
       "      <td>penalty</td>\n",
       "      <td>engine</td>\n",
       "      <td>question</td>\n",
       "    </tr>\n",
       "    <tr>\n",
       "      <th>283929</th>\n",
       "      <td>provide</td>\n",
       "      <td>company</td>\n",
       "      <td>research</td>\n",
       "      <td>market</td>\n",
       "      <td>time</td>\n",
       "    </tr>\n",
       "    <tr>\n",
       "      <th>75499</th>\n",
       "      <td>reach</td>\n",
       "      <td>news</td>\n",
       "      <td>camp</td>\n",
       "      <td>people</td>\n",
       "      <td>open</td>\n",
       "    </tr>\n",
       "    <tr>\n",
       "      <th>521806</th>\n",
       "      <td>have</td>\n",
       "      <td>programme</td>\n",
       "      <td>expansion</td>\n",
       "      <td>trend</td>\n",
       "      <td>humour</td>\n",
       "    </tr>\n",
       "    <tr>\n",
       "      <th>534693</th>\n",
       "      <td>underline</td>\n",
       "      <td>introduction</td>\n",
       "      <td>importance</td>\n",
       "      <td>reduction</td>\n",
       "      <td>capability</td>\n",
       "    </tr>\n",
       "  </tbody>\n",
       "</table>\n",
       "</div>"
      ],
      "text/plain": [
       "             verb       pos_sbj    pos_dobj    neg_sbj    neg_dobj\n",
       "190871   increase           act     penalty     engine    question\n",
       "283929    provide       company    research     market        time\n",
       "75499       reach          news        camp     people        open\n",
       "521806       have     programme   expansion      trend      humour\n",
       "534693  underline  introduction  importance  reduction  capability"
      ]
     },
     "execution_count": 44,
     "metadata": {},
     "output_type": "execute_result"
    }
   ],
   "source": [
    "dev_ds_with_negs_unigram_freq.sample(5)"
   ]
  },
  {
   "cell_type": "markdown",
   "metadata": {},
   "source": [
    "# Examine the datasets"
   ]
  },
  {
   "cell_type": "code",
   "execution_count": 16,
   "metadata": {},
   "outputs": [
    {
     "data": {
      "text/plain": [
       "6569639"
      ]
     },
     "execution_count": 16,
     "metadata": {},
     "output_type": "execute_result"
    }
   ],
   "source": [
    "len(train_ds)"
   ]
  },
  {
   "cell_type": "code",
   "execution_count": 17,
   "metadata": {},
   "outputs": [
    {
     "data": {
      "text/plain": [
       "729960"
      ]
     },
     "execution_count": 17,
     "metadata": {},
     "output_type": "execute_result"
    }
   ],
   "source": [
    "len(dev_ds)"
   ]
  },
  {
   "cell_type": "markdown",
   "metadata": {},
   "source": [
    "# Encode into numerical values"
   ]
  },
  {
   "cell_type": "code",
   "execution_count": 20,
   "metadata": {},
   "outputs": [],
   "source": [
    "from sklearn.preprocessing import LabelEncoder\n",
    "encoder = LabelEncoder()"
   ]
  },
  {
   "cell_type": "code",
   "execution_count": 21,
   "metadata": {},
   "outputs": [],
   "source": [
    "encoder.fit(list(train_ds.values.reshape(-1)) + ['<unkn>'])\n",
    "vocab = set(encoder.classes_)"
   ]
  },
  {
   "cell_type": "code",
   "execution_count": 22,
   "metadata": {},
   "outputs": [
    {
     "data": {
      "text/plain": [
       "12856"
      ]
     },
     "execution_count": 22,
     "metadata": {},
     "output_type": "execute_result"
    }
   ],
   "source": [
    "len(vocab)"
   ]
  },
  {
   "cell_type": "code",
   "execution_count": 23,
   "metadata": {},
   "outputs": [],
   "source": [
    "def transform_dataset(df):\n",
    "    num_cols = len(df.columns)\n",
    "    vals = df.values.reshape(-1)\n",
    "    vals = [(v if v in vocab else '<unkn>') for v in vals]\n",
    "    x = encoder.transform(vals).reshape(-1, num_cols)\n",
    "    return x"
   ]
  },
  {
   "cell_type": "code",
   "execution_count": 24,
   "metadata": {},
   "outputs": [],
   "source": [
    "encoded_train_ds = transform_dataset(train_ds)\n",
    "encoded_dev_ds = transform_dataset(dev_ds)"
   ]
  },
  {
   "cell_type": "code",
   "execution_count": 25,
   "metadata": {},
   "outputs": [
    {
     "data": {
      "text/plain": [
       "array([[12807,  6523,  8275],\n",
       "       [ 3552,  6102,  9201],\n",
       "       [ 2432, 10335,  4218],\n",
       "       [ 4929,  9187,  4929],\n",
       "       [   78,   441,  3297]])"
      ]
     },
     "execution_count": 25,
     "metadata": {},
     "output_type": "execute_result"
    }
   ],
   "source": [
    "encoded_train_ds[:5]"
   ]
  },
  {
   "cell_type": "code",
   "execution_count": 26,
   "metadata": {},
   "outputs": [
    {
     "data": {
      "text/plain": [
       "array([[ 2469,   561,  8813],\n",
       "       [ 1960, 11460,  3320],\n",
       "       [12554,  2759,  9044],\n",
       "       [11607, 12729,  4756],\n",
       "       [ 1912,  1943,  7542]])"
      ]
     },
     "execution_count": 26,
     "metadata": {},
     "output_type": "execute_result"
    }
   ],
   "source": [
    "encoded_dev_ds[:5]"
   ]
  },
  {
   "cell_type": "code",
   "execution_count": 29,
   "metadata": {},
   "outputs": [
    {
     "data": {
      "text/plain": [
       "['output/ukwac-encoder.pkl']"
      ]
     },
     "execution_count": 29,
     "metadata": {},
     "output_type": "execute_result"
    }
   ],
   "source": [
    "dump(encoder, 'output/ukwac-encoder.pkl')"
   ]
  },
  {
   "cell_type": "code",
   "execution_count": 30,
   "metadata": {},
   "outputs": [],
   "source": [
    "np.save('output/ukwac-train.npy', encoded_train_ds)\n",
    "np.save('output/ukwac-dev.npy', encoded_dev_ds)"
   ]
  },
  {
   "cell_type": "code",
   "execution_count": 47,
   "metadata": {},
   "outputs": [],
   "source": [
    "encoded_dev_same_freq = transform_dataset(dev_ds_with_negs_same_freq)\n",
    "encoded_dev_unigram = transform_dataset(dev_ds_with_negs_unigram_freq)"
   ]
  },
  {
   "cell_type": "code",
   "execution_count": 49,
   "metadata": {},
   "outputs": [
    {
     "data": {
      "text/plain": [
       "array([[ 6011,  1985, 10117,  3858,  8676],\n",
       "       [10332,  9883,  9254,  8451,  3926],\n",
       "       [ 2107,  4547, 11824,  7985,  1943],\n",
       "       [ 4502,  6675,  7912,  2033,  2198],\n",
       "       [ 4563,   630,  3172,  9059,  1580]])"
      ]
     },
     "execution_count": 49,
     "metadata": {},
     "output_type": "execute_result"
    }
   ],
   "source": [
    "encoded_dev_same_freq[:5]"
   ]
  },
  {
   "cell_type": "code",
   "execution_count": 51,
   "metadata": {},
   "outputs": [],
   "source": [
    "np.save('output/ukwac-dev-same-freq.npy', encoded_dev_same_freq)\n",
    "np.save('output/ukwac-dev-unigram-freq.npy', encoded_dev_unigram)"
   ]
  },
  {
   "cell_type": "markdown",
   "metadata": {},
   "source": [
    "# Coverage"
   ]
  },
  {
   "cell_type": "code",
   "execution_count": 31,
   "metadata": {},
   "outputs": [
    {
     "data": {
      "text/plain": [
       "2189879"
      ]
     },
     "execution_count": 31,
     "metadata": {},
     "output_type": "execute_result"
    }
   ],
   "source": [
    "sum(1 for w in dev_ds.values.flatten() if w in vocab)"
   ]
  },
  {
   "cell_type": "code",
   "execution_count": 32,
   "metadata": {},
   "outputs": [
    {
     "data": {
      "text/plain": [
       "2189880"
      ]
     },
     "execution_count": 32,
     "metadata": {},
     "output_type": "execute_result"
    }
   ],
   "source": [
    "dev_ds.values.size"
   ]
  },
  {
   "cell_type": "code",
   "execution_count": null,
   "metadata": {},
   "outputs": [],
   "source": []
  }
 ],
 "metadata": {
  "kernelspec": {
   "display_name": "Python 3",
   "language": "python",
   "name": "python3"
  },
  "language_info": {
   "codemirror_mode": {
    "name": "ipython",
    "version": 3
   },
   "file_extension": ".py",
   "mimetype": "text/x-python",
   "name": "python",
   "nbconvert_exporter": "python",
   "pygments_lexer": "ipython3",
   "version": "3.6.2"
  }
 },
 "nbformat": 4,
 "nbformat_minor": 2
}
