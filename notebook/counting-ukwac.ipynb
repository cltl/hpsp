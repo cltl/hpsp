{
 "cells": [
  {
   "cell_type": "markdown",
   "metadata": {},
   "source": [
    "# Data exploration"
   ]
  },
  {
   "cell_type": "code",
   "execution_count": 1,
   "metadata": {},
   "outputs": [
    {
     "name": "stdout",
     "output_type": "stream",
     "text": [
      "ukwac_dep_parsed_01.gz ukwac_dep_parsed_03.gz ukwac_dep_parsed_05.gz\r\n",
      "ukwac_dep_parsed_02.gz ukwac_dep_parsed_04.gz\r\n"
     ]
    }
   ],
   "source": [
    "!ls ../data/ukwac-dep"
   ]
  },
  {
   "cell_type": "code",
   "execution_count": 2,
   "metadata": {},
   "outputs": [
    {
     "name": "stdout",
     "output_type": "stream",
     "text": [
      "<text id=\"ukwac:http://observer.guardian.co.uk/osm/story/0,,1009777,00.html\">\r\n",
      "<s>\r\n",
      "Hooligans\thooligan\tNNS\t1\t4\tNMOD\r\n",
      ",\t,\t,\t2\t4\tP\r\n",
      "unbridled\tunbridled\tJJ\t3\t4\tNMOD\r\n",
      "passion\tpassion\tNN\t4\t0\tROOT\r\n",
      "-\t-\t:\t5\t4\tP\r\n",
      "and\tand\tCC\t6\t4\tCC\r\n",
      "no\tno\tDT\t7\t9\tNMOD\r\n",
      "executive\texecutive\tJJ\t8\t9\tNMOD\r\n",
      "boxes\tbox\tNNS\t9\t4\tCOORD\r\n",
      ".\t.\tSENT\t10\t0\tROOT\r\n",
      "</s>\r\n",
      "<s>\r\n",
      "Portsmouth\tPortsmouth\tNP\t1\t2\tSBJ\r\n",
      "are\tare\tVBP\t2\t0\tROOT\r\n",
      "a\ta\tDT\t3\t4\tNMOD\r\n",
      "reminder\treminder\tNN\t4\t2\tPRD\r\n",
      "of\tof\tIN\t5\t4\tNMOD\r\n",
      "how\thow\tWRB\t6\t8\tADV\r\n",
      "gzcat: error writing to output: Broken pipe\r\n",
      "gzcat: ../data/ukwac-dep/ukwac_dep_parsed_01.gz: uncompress failed\r\n"
     ]
    }
   ],
   "source": [
    "!gzcat ../data/ukwac-dep/ukwac_dep_parsed_01.gz | head -n 20"
   ]
  },
  {
   "cell_type": "code",
   "execution_count": 3,
   "metadata": {},
   "outputs": [],
   "source": [
    "import sys\n",
    "if '..' not in sys.path: \n",
    "    sys.path.append('..')"
   ]
  },
  {
   "cell_type": "code",
   "execution_count": 4,
   "metadata": {},
   "outputs": [],
   "source": [
    "%matplotlib inline\n",
    "from conll import parse_dep_tree\n",
    "import gzip\n",
    "from tqdm import tqdm\n",
    "from glob import glob\n",
    "from ukwac import *\n",
    "from itertools import islice\n",
    "from collections import Counter\n",
    "import seaborn as sns\n",
    "import pandas as pd\n",
    "import re\n",
    "from joblib import Parallel, delayed\n",
    "import os"
   ]
  },
  {
   "cell_type": "code",
   "execution_count": 5,
   "metadata": {},
   "outputs": [],
   "source": [
    "paths = sorted(glob('../data/ukwac-dep/*.gz'))"
   ]
  },
  {
   "cell_type": "code",
   "execution_count": 6,
   "metadata": {},
   "outputs": [
    {
     "data": {
      "text/plain": [
       "[{'token': 'Hooligans',\n",
       "  'lemma': 'hooligan',\n",
       "  'pos': 'NNS',\n",
       "  'head': 3,\n",
       "  'label': 'NMOD',\n",
       "  'tokens': {0}},\n",
       " {'token': ',',\n",
       "  'lemma': ',',\n",
       "  'pos': ',',\n",
       "  'head': 3,\n",
       "  'label': 'P',\n",
       "  'tokens': {1}},\n",
       " {'token': 'unbridled',\n",
       "  'lemma': 'unbridled',\n",
       "  'pos': 'JJ',\n",
       "  'head': 3,\n",
       "  'label': 'NMOD',\n",
       "  'tokens': {2}},\n",
       " {'token': 'passion',\n",
       "  'lemma': 'passion',\n",
       "  'pos': 'NN',\n",
       "  'head': -1,\n",
       "  'label': 'ROOT',\n",
       "  'tokens': {0, 1, 2, 3, 4, 5, 6, 7, 8}},\n",
       " {'token': '-',\n",
       "  'lemma': '-',\n",
       "  'pos': ':',\n",
       "  'head': 3,\n",
       "  'label': 'P',\n",
       "  'tokens': {4}},\n",
       " {'token': 'and',\n",
       "  'lemma': 'and',\n",
       "  'pos': 'CC',\n",
       "  'head': 3,\n",
       "  'label': 'CC',\n",
       "  'tokens': {5}},\n",
       " {'token': 'no',\n",
       "  'lemma': 'no',\n",
       "  'pos': 'DT',\n",
       "  'head': 8,\n",
       "  'label': 'NMOD',\n",
       "  'tokens': {6}},\n",
       " {'token': 'executive',\n",
       "  'lemma': 'executive',\n",
       "  'pos': 'JJ',\n",
       "  'head': 8,\n",
       "  'label': 'NMOD',\n",
       "  'tokens': {7}},\n",
       " {'token': 'boxes',\n",
       "  'lemma': 'box',\n",
       "  'pos': 'NNS',\n",
       "  'head': 3,\n",
       "  'label': 'COORD',\n",
       "  'tokens': {6, 7, 8}},\n",
       " {'token': '.',\n",
       "  'lemma': '.',\n",
       "  'pos': 'SENT',\n",
       "  'head': -1,\n",
       "  'label': 'ROOT',\n",
       "  'tokens': {9}}]"
      ]
     },
     "execution_count": 6,
     "metadata": {},
     "output_type": "execute_result"
    }
   ],
   "source": [
    "with gzip.open(paths[0], 'r') as f:\n",
    "    lines = f.readlines(10000)\n",
    "parse_dep_tree(list(iter_sentences(lines))[0], 'ukwac')"
   ]
  },
  {
   "cell_type": "code",
   "execution_count": 7,
   "metadata": {},
   "outputs": [
    {
     "name": "stderr",
     "output_type": "stream",
     "text": [
      "25604lines [00:00, 127919.02lines/s]"
     ]
    },
    {
     "name": "stdout",
     "output_type": "stream",
     "text": [
      "Reading \"../data/ukwac-dep/ukwac_dep_parsed_01.gz\"\n"
     ]
    },
    {
     "name": "stderr",
     "output_type": "stream",
     "text": [
      "267707lines [00:03, 88155.17lines/s]"
     ]
    },
    {
     "name": "stdout",
     "output_type": "stream",
     "text": [
      "Error occurred at sentence 10000. Skipped.\n",
      "['It\\tit\\tPP\\t1\\t2\\tSBJ', 'will\\twill\\tMD\\t2\\t0\\tROOT', 'also\\talso\\tRB\\t3\\t2\\tADV', 'start\\tstart\\tVV\\t4\\t2\\tVC', 'to\\tto\\tTO\\t5\\t6\\tVMOD', 'deliver\\tdeliver\\tVV\\t6\\t4\\tOBJ', 'powerful\\tpowerful\\tJJ\\t7\\t6\\tPRD', ',\\t,\\t,\\t8\\t7\\tP', 'targeted\\ttargeted\\tJJ\\t9\\t7\\tCOORD', ',\\t,\\t,\\t10\\t7\\tP', 'effective\\teffective\\tJJ\\t11\\t7\\tCOORD', 'and\\tand\\tCC\\t12\\t7\\tCC', 'flexible\\tflexible\\tJJ\\t13\\t7\\tCOORD', 'communication\\tcommunication\\tNN\\t14\\t15\\tNMOD', 'plans\\tplan\\tNNS\\t15\\t6\\tOBJ', '.\\t.\\tSENT\\t16\\t2\\tP']\n",
      "CPU times: user 2.78 s, sys: 206 ms, total: 2.99 s\n",
      "Wall time: 3.12 s\n"
     ]
    },
    {
     "name": "stderr",
     "output_type": "stream",
     "text": [
      "Exception ignored in: <generator object iter_dep_trees_from_file at 0x10ed69f10>\n",
      "RuntimeError: generator ignored GeneratorExit\n",
      "\n"
     ]
    }
   ],
   "source": [
    "%%time\n",
    "dep_trees = list(islice(iter_dep_trees(paths), 10000))"
   ]
  },
  {
   "cell_type": "code",
   "execution_count": 8,
   "metadata": {},
   "outputs": [
    {
     "data": {
      "image/png": "[encoded data removed]",
      "text/plain": [
       "<Figure size 432x288 with 1 Axes>"
      ]
     },
     "metadata": {},
     "output_type": "display_data"
    }
   ],
   "source": [
    "ax = sns.countplot([dep['label'] for deps in dep_trees for dep in deps])\n",
    "_ = ax.set_xticklabels(ax.get_xticklabels(),rotation=60)"
   ]
  },
  {
   "cell_type": "code",
   "execution_count": 9,
   "metadata": {},
   "outputs": [
    {
     "data": {
      "image/png": "[encoded data removed]",
      "text/plain": [
       "<Figure size 432x288 with 1 Axes>"
      ]
     },
     "metadata": {},
     "output_type": "display_data"
    }
   ],
   "source": [
    "ax = sns.countplot([dep['pos'] for deps in dep_trees for dep in deps])\n",
    "_ = ax.set_xticklabels(ax.get_xticklabels(), fontsize='small', rotation=90)"
   ]
  },
  {
   "cell_type": "markdown",
   "metadata": {},
   "source": [
    "# Couting verbs and nouns"
   ]
  },
  {
   "cell_type": "code",
   "execution_count": 10,
   "metadata": {},
   "outputs": [
    {
     "name": "stdout",
     "output_type": "stream",
     "text": [
      "Progress is printed to command line instead of notebook.\n"
     ]
    },
    {
     "ename": "KeyboardInterrupt",
     "evalue": "",
     "output_type": "error",
     "traceback": [
      "\u001b[0;31m---------------------------------------------------------------------------\u001b[0m",
      "\u001b[0;31mKeyboardInterrupt\u001b[0m                         Traceback (most recent call last)",
      "\u001b[0;32m<timed exec>\u001b[0m in \u001b[0;36m<module>\u001b[0;34m()\u001b[0m\n",
      "\u001b[0;32m/usr/local/Cellar/python3/3.6.2/Frameworks/Python.framework/Versions/3.6/lib/python3.6/site-packages/joblib/parallel.py\u001b[0m in \u001b[0;36m__call__\u001b[0;34m(self, iterable)\u001b[0m\n\u001b[1;32m    994\u001b[0m \u001b[0;34m\u001b[0m\u001b[0m\n\u001b[1;32m    995\u001b[0m             \u001b[0;32mwith\u001b[0m \u001b[0mself\u001b[0m\u001b[0;34m.\u001b[0m\u001b[0m_backend\u001b[0m\u001b[0;34m.\u001b[0m\u001b[0mretrieval_context\u001b[0m\u001b[0;34m(\u001b[0m\u001b[0;34m)\u001b[0m\u001b[0;34m:\u001b[0m\u001b[0;34m\u001b[0m\u001b[0m\n\u001b[0;32m--> 996\u001b[0;31m                 \u001b[0mself\u001b[0m\u001b[0;34m.\u001b[0m\u001b[0mretrieve\u001b[0m\u001b[0;34m(\u001b[0m\u001b[0;34m)\u001b[0m\u001b[0;34m\u001b[0m\u001b[0m\n\u001b[0m\u001b[1;32m    997\u001b[0m             \u001b[0;31m# Make sure that we get a last message telling us we are done\u001b[0m\u001b[0;34m\u001b[0m\u001b[0;34m\u001b[0m\u001b[0m\n\u001b[1;32m    998\u001b[0m             \u001b[0melapsed_time\u001b[0m \u001b[0;34m=\u001b[0m \u001b[0mtime\u001b[0m\u001b[0;34m.\u001b[0m\u001b[0mtime\u001b[0m\u001b[0;34m(\u001b[0m\u001b[0;34m)\u001b[0m \u001b[0;34m-\u001b[0m \u001b[0mself\u001b[0m\u001b[0;34m.\u001b[0m\u001b[0m_start_time\u001b[0m\u001b[0;34m\u001b[0m\u001b[0m\n",
      "\u001b[0;32m/usr/local/Cellar/python3/3.6.2/Frameworks/Python.framework/Versions/3.6/lib/python3.6/site-packages/joblib/parallel.py\u001b[0m in \u001b[0;36mretrieve\u001b[0;34m(self)\u001b[0m\n\u001b[1;32m    897\u001b[0m             \u001b[0;32mtry\u001b[0m\u001b[0;34m:\u001b[0m\u001b[0;34m\u001b[0m\u001b[0m\n\u001b[1;32m    898\u001b[0m                 \u001b[0;32mif\u001b[0m \u001b[0mgetattr\u001b[0m\u001b[0;34m(\u001b[0m\u001b[0mself\u001b[0m\u001b[0;34m.\u001b[0m\u001b[0m_backend\u001b[0m\u001b[0;34m,\u001b[0m \u001b[0;34m'supports_timeout'\u001b[0m\u001b[0;34m,\u001b[0m \u001b[0;32mFalse\u001b[0m\u001b[0;34m)\u001b[0m\u001b[0;34m:\u001b[0m\u001b[0;34m\u001b[0m\u001b[0m\n\u001b[0;32m--> 899\u001b[0;31m                     \u001b[0mself\u001b[0m\u001b[0;34m.\u001b[0m\u001b[0m_output\u001b[0m\u001b[0;34m.\u001b[0m\u001b[0mextend\u001b[0m\u001b[0;34m(\u001b[0m\u001b[0mjob\u001b[0m\u001b[0;34m.\u001b[0m\u001b[0mget\u001b[0m\u001b[0;34m(\u001b[0m\u001b[0mtimeout\u001b[0m\u001b[0;34m=\u001b[0m\u001b[0mself\u001b[0m\u001b[0;34m.\u001b[0m\u001b[0mtimeout\u001b[0m\u001b[0;34m)\u001b[0m\u001b[0;34m)\u001b[0m\u001b[0;34m\u001b[0m\u001b[0m\n\u001b[0m\u001b[1;32m    900\u001b[0m                 \u001b[0;32melse\u001b[0m\u001b[0;34m:\u001b[0m\u001b[0;34m\u001b[0m\u001b[0m\n\u001b[1;32m    901\u001b[0m                     \u001b[0mself\u001b[0m\u001b[0;34m.\u001b[0m\u001b[0m_output\u001b[0m\u001b[0;34m.\u001b[0m\u001b[0mextend\u001b[0m\u001b[0;34m(\u001b[0m\u001b[0mjob\u001b[0m\u001b[0;34m.\u001b[0m\u001b[0mget\u001b[0m\u001b[0;34m(\u001b[0m\u001b[0;34m)\u001b[0m\u001b[0;34m)\u001b[0m\u001b[0;34m\u001b[0m\u001b[0m\n",
      "\u001b[0;32m/usr/local/Cellar/python3/3.6.2/Frameworks/Python.framework/Versions/3.6/lib/python3.6/site-packages/joblib/_parallel_backends.py\u001b[0m in \u001b[0;36mwrap_future_result\u001b[0;34m(future, timeout)\u001b[0m\n\u001b[1;32m    515\u001b[0m         AsyncResults.get from multiprocessing.\"\"\"\n\u001b[1;32m    516\u001b[0m         \u001b[0;32mtry\u001b[0m\u001b[0;34m:\u001b[0m\u001b[0;34m\u001b[0m\u001b[0m\n\u001b[0;32m--> 517\u001b[0;31m             \u001b[0;32mreturn\u001b[0m \u001b[0mfuture\u001b[0m\u001b[0;34m.\u001b[0m\u001b[0mresult\u001b[0m\u001b[0;34m(\u001b[0m\u001b[0mtimeout\u001b[0m\u001b[0;34m=\u001b[0m\u001b[0mtimeout\u001b[0m\u001b[0;34m)\u001b[0m\u001b[0;34m\u001b[0m\u001b[0m\n\u001b[0m\u001b[1;32m    518\u001b[0m         \u001b[0;32mexcept\u001b[0m \u001b[0mLokyTimeoutError\u001b[0m\u001b[0;34m:\u001b[0m\u001b[0;34m\u001b[0m\u001b[0m\n\u001b[1;32m    519\u001b[0m             \u001b[0;32mraise\u001b[0m \u001b[0mTimeoutError\u001b[0m\u001b[0;34m(\u001b[0m\u001b[0;34m)\u001b[0m\u001b[0;34m\u001b[0m\u001b[0m\n",
      "\u001b[0;32m/usr/local/Cellar/python3/3.6.2/Frameworks/Python.framework/Versions/3.6/lib/python3.6/concurrent/futures/_base.py\u001b[0m in \u001b[0;36mresult\u001b[0;34m(self, timeout)\u001b[0m\n\u001b[1;32m    398\u001b[0m                 \u001b[0;32mreturn\u001b[0m \u001b[0mself\u001b[0m\u001b[0;34m.\u001b[0m\u001b[0m__get_result\u001b[0m\u001b[0;34m(\u001b[0m\u001b[0;34m)\u001b[0m\u001b[0;34m\u001b[0m\u001b[0m\n\u001b[1;32m    399\u001b[0m \u001b[0;34m\u001b[0m\u001b[0m\n\u001b[0;32m--> 400\u001b[0;31m             \u001b[0mself\u001b[0m\u001b[0;34m.\u001b[0m\u001b[0m_condition\u001b[0m\u001b[0;34m.\u001b[0m\u001b[0mwait\u001b[0m\u001b[0;34m(\u001b[0m\u001b[0mtimeout\u001b[0m\u001b[0;34m)\u001b[0m\u001b[0;34m\u001b[0m\u001b[0m\n\u001b[0m\u001b[1;32m    401\u001b[0m \u001b[0;34m\u001b[0m\u001b[0m\n\u001b[1;32m    402\u001b[0m             \u001b[0;32mif\u001b[0m \u001b[0mself\u001b[0m\u001b[0;34m.\u001b[0m\u001b[0m_state\u001b[0m \u001b[0;32min\u001b[0m \u001b[0;34m[\u001b[0m\u001b[0mCANCELLED\u001b[0m\u001b[0;34m,\u001b[0m \u001b[0mCANCELLED_AND_NOTIFIED\u001b[0m\u001b[0;34m]\u001b[0m\u001b[0;34m:\u001b[0m\u001b[0;34m\u001b[0m\u001b[0m\n",
      "\u001b[0;32m/usr/local/Cellar/python3/3.6.2/Frameworks/Python.framework/Versions/3.6/lib/python3.6/threading.py\u001b[0m in \u001b[0;36mwait\u001b[0;34m(self, timeout)\u001b[0m\n\u001b[1;32m    293\u001b[0m         \u001b[0;32mtry\u001b[0m\u001b[0;34m:\u001b[0m    \u001b[0;31m# restore state no matter what (e.g., KeyboardInterrupt)\u001b[0m\u001b[0;34m\u001b[0m\u001b[0m\n\u001b[1;32m    294\u001b[0m             \u001b[0;32mif\u001b[0m \u001b[0mtimeout\u001b[0m \u001b[0;32mis\u001b[0m \u001b[0;32mNone\u001b[0m\u001b[0;34m:\u001b[0m\u001b[0;34m\u001b[0m\u001b[0m\n\u001b[0;32m--> 295\u001b[0;31m                 \u001b[0mwaiter\u001b[0m\u001b[0;34m.\u001b[0m\u001b[0macquire\u001b[0m\u001b[0;34m(\u001b[0m\u001b[0;34m)\u001b[0m\u001b[0;34m\u001b[0m\u001b[0m\n\u001b[0m\u001b[1;32m    296\u001b[0m                 \u001b[0mgotit\u001b[0m \u001b[0;34m=\u001b[0m \u001b[0;32mTrue\u001b[0m\u001b[0;34m\u001b[0m\u001b[0m\n\u001b[1;32m    297\u001b[0m             \u001b[0;32melse\u001b[0m\u001b[0;34m:\u001b[0m\u001b[0;34m\u001b[0m\u001b[0m\n",
      "\u001b[0;31mKeyboardInterrupt\u001b[0m: "
     ]
    }
   ],
   "source": [
    "%%time\n",
    "\n",
    "def write_verbs_and_noun_single_process(inp_path, verb_out_path, noun_out_path, idx):\n",
    "    with gzip.open(verb_out_path, 'wb') as fv_out, \\\n",
    "            gzip.open(noun_out_path, 'wb') as fn_out:\n",
    "        for dep_tree in iter_dep_trees_from_file(\n",
    "                    iter_lines_counting(inp_path, idx)):\n",
    "            for dep in dep_tree:\n",
    "                if is_valid_verb(dep):\n",
    "                    fv_out.write(normalize(dep).encode('utf-8'))\n",
    "                    fv_out.write(b'\\n')\n",
    "                elif is_valid_noun(dep):\n",
    "                    fn_out.write(normalize(dep).encode('utf-8'))\n",
    "                    fn_out.write(b'\\n')\n",
    "\n",
    "print('Progress is printed to command line instead of notebook.')\n",
    "out_dir = '../output/ukwac-counts.tmp'\n",
    "os.makedirs(out_dir, exist_ok=True)\n",
    "out_verb_path_pattern = os.path.join(out_dir, 'verbs-%02d.txt.gz')\n",
    "out_noun_path_pattern = os.path.join(out_dir, 'nouns-%02d.txt.gz')\n",
    "Parallel(n_jobs=3)(delayed(write_verbs_and_noun_single_process)(p, out_verb_path_pattern%i, \n",
    "                                                                out_noun_path_pattern%i, i)\n",
    "                   for i, p in enumerate(paths))"
   ]
  },
  {
   "cell_type": "code",
   "execution_count": 21,
   "metadata": {},
   "outputs": [
    {
     "name": "stderr",
     "output_type": "stream",
     "text": [
      "mkdir: ../output/ukwac-counts: File exists\n",
      "gzcat: ../output/ukwac-counts.tmp/nouns-03.txt.gz: unexpected end of file\n",
      "gzcat: ../output/ukwac-counts.tmp/nouns-04.txt.gz: unexpected end of file\n",
      "gzcat: invalid compressed data--crc error\n",
      "gzcat: ../output/ukwac-counts.tmp/verbs-02.txt.gz: uncompress failed\n",
      "gzcat: ../output/ukwac-counts.tmp/verbs-03.txt.gz: unexpected end of file\n",
      "gzcat: ../output/ukwac-counts.tmp/verbs-04.txt.gz: unexpected end of file\n"
     ]
    },
    {
     "name": "stdout",
     "output_type": "stream",
     "text": [
      "CPU times: user 11.7 ms, sys: 14.9 ms, total: 26.7 ms\n",
      "Wall time: 5min 30s\n"
     ]
    }
   ],
   "source": [
    "%%time\n",
    "%%sh\n",
    "mkdir ../output/ukwac-counts\n",
    "gzcat ../output/ukwac-counts.tmp/nouns*.txt.gz | sort | uniq -c | sort -n -r | gzip > ../output/ukwac-counts/nouns.txt.gz\n",
    "gzcat ../output/ukwac-counts.tmp/verbs*.txt.gz | sort | uniq -c | sort -n -r | gzip > ../output/ukwac-counts/verbs.txt.gz\n"
   ]
  },
  {
   "cell_type": "code",
   "execution_count": 27,
   "metadata": {},
   "outputs": [
    {
     "name": "stdout",
     "output_type": "stream",
     "text": [
      "   1 aaaaanzlaaarrr\n",
      "   1 aaaaahhhh\n",
      "   1 aaaaah\n",
      "   1 aaaaages\n",
      "   1 aaaaaarrrghhhh\n",
      "   1 aaaaaahhhhh\n",
      "   1 aaaaaahhhh\n",
      "   1 aaaaaaghhhhhhh\n",
      "   1 aaaaaaan\n",
      "   1 aaaaaaaaaaaaaaaaaaagh\n"
     ]
    }
   ],
   "source": [
    "%%sh\n",
    "gzcat ../output/ukwac-counts/nouns.txt.gz | grep \" 1 \" | tail"
   ]
  },
  {
   "cell_type": "code",
   "execution_count": 28,
   "metadata": {},
   "outputs": [
    {
     "name": "stdout",
     "output_type": "stream",
     "text": [
      "   2 abanim\n",
      "   2 ab\n",
      "   2 aaw\n",
      "   2 aater\n",
      "   2 aarti\n",
      "   2 aarons\n",
      "   2 aarkle\n",
      "   2 aalge\n",
      "   2 aaaah\n",
      "   2 aaaa\n"
     ]
    }
   ],
   "source": [
    "%%sh\n",
    "gzcat ../output/ukwac-counts/nouns.txt.gz | grep \" 2 \" | tail"
   ]
  },
  {
   "cell_type": "code",
   "execution_count": 29,
   "metadata": {},
   "outputs": [
    {
     "name": "stdout",
     "output_type": "stream",
     "text": [
      "   3 abdallah\n",
      "   3 abcmidi\n",
      "   3 abcess\n",
      "   3 abcdefghijklmnopqrstuvwxyz\n",
      "   3 abbreviatio\n",
      "   3 abbie\n",
      "   3 abantensis\n",
      "   3 aahaayson\n",
      "   3 aafa\n",
      "   3 aabody\n"
     ]
    }
   ],
   "source": [
    "%%sh\n",
    "gzcat ../output/ukwac-counts/nouns.txt.gz | grep \" 3 \" | tail"
   ]
  },
  {
   "cell_type": "code",
   "execution_count": 30,
   "metadata": {},
   "outputs": [
    {
     "name": "stdout",
     "output_type": "stream",
     "text": [
      "  10 advise\n",
      "  10 adjacency\n",
      "  10 adenoma\n",
      "  10 activboards\n",
      "  10 acth\n",
      "  10 acess\n",
      "  10 acapella\n",
      "  10 absurdist\n",
      "  10 aat\n",
      "  10 aadir\n"
     ]
    }
   ],
   "source": [
    "%%sh\n",
    "gzcat ../output/ukwac-counts/nouns.txt.gz | grep \" 10 \" | tail"
   ]
  },
  {
   "cell_type": "code",
   "execution_count": 31,
   "metadata": {},
   "outputs": [
    {
     "name": "stdout",
     "output_type": "stream",
     "text": [
      "  20 alkaloid\n",
      "  20 airshow\n",
      "  20 airlift\n",
      "  20 aerofoil\n",
      "  20 adm\n",
      "  20 addon\n",
      "  20 adapting\n",
      "  20 acquiescence\n",
      "  20 acolyte\n",
      "  20 acetylcholine\n"
     ]
    }
   ],
   "source": [
    "%%sh\n",
    "gzcat ../output/ukwac-counts/nouns.txt.gz | grep \" 20 \" | tail"
   ]
  },
  {
   "cell_type": "code",
   "execution_count": null,
   "metadata": {},
   "outputs": [],
   "source": []
  }
 ],
 "metadata": {
  "kernelspec": {
   "display_name": "Python 3",
   "language": "python",
   "name": "python3"
  },
  "language_info": {
   "codemirror_mode": {
    "name": "ipython",
    "version": 3
   },
   "file_extension": ".py",
   "mimetype": "text/x-python",
   "name": "python",
   "nbconvert_exporter": "python",
   "pygments_lexer": "ipython3",
   "version": "3.6.2"
  }
 },
 "nbformat": 4,
 "nbformat_minor": 2
}
